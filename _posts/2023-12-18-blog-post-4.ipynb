{
  "cells": [
    {
      "cell_type": "markdown",
      "metadata": {
        "colab_type": "text",
        "id": "view-in-github"
      },
      "source": [
        "<a href=\"https://colab.research.google.com/github/giangdip2410/Research-Stuff/blob/main/CPSC5440_Assigment4_JGM667.ipynb\" target=\"_parent\"><img src=\"https://colab.research.google.com/assets/colab-badge.svg\" alt=\"Open In Colab\"/></a>"
      ]
    },
    {
      "cell_type": "markdown",
      "metadata": {
        "id": "k3cKutZ8Gj6X"
      },
      "source": [
        "**Introduction to LSTM**"
      ]
    },
    {
      "cell_type": "markdown",
      "metadata": {
        "id": "U5e2PHzOWPNC"
      },
      "source": [
        "**In this notebook, I will build a character-level RNN/LSTM/GRU with PyTorch. The models will be able to generate new text based on the text from the book. The book called Grimms' Fairy Tales by Jacob Grimm and Wilhelm Grimm. Datasets available at: https://www.kaggle.com/datasets/tschomacker/grimms-fairy-tales**"
      ]
    },
    {
      "cell_type": "markdown",
      "metadata": {
        "id": "FJqbr20UL4JN"
      },
      "source": [
        "### Library "
      ]
    },
    {
      "cell_type": "code",
      "execution_count": null,
      "metadata": {
        "id": "oi3stTDoL4gT"
      },
      "outputs": [],
      "source": [
        "from collections import defaultdict\n",
        "import copy\n",
        "import random\n",
        "import os\n",
        "import shutil\n",
        "from urllib.request import urlretrieve\n",
        "import numpy as np\n",
        "import matplotlib.pyplot as plt\n",
        "from tqdm.notebook import tqdm\n",
        "import torch\n",
        "import torch.backends.cudnn as cudnn\n",
        "import torch.nn as nn\n",
        "import torch.nn.functional as F\n",
        "import torch.optim\n",
        "from torch.utils.data import Dataset, DataLoader\n",
        "from tqdm import tqdm\n",
        "from multiprocessing import Pool\n",
        "cudnn.benchmark = True\n",
        "from torchsummary import summary\n",
        "import pickle\n",
        "import pandas as pd\n",
        "import time\n",
        "import random"
      ]
    },
    {
      "cell_type": "code",
      "execution_count": null,
      "metadata": {
        "id": "QIhVsn9qLq8e"
      },
      "outputs": [],
      "source": [
        "#fix seed for stable training\n",
        "SEED = 42\n",
        "\n",
        "random.seed(SEED)\n",
        "np.random.seed(SEED)\n",
        "torch.manual_seed(SEED)\n",
        "torch.cuda.manual_seed(SEED)\n",
        "torch.backends.cudnn.deterministic = True"
      ]
    },
    {
      "cell_type": "markdown",
      "metadata": {
        "id": "JmpYbBu7L7l9"
      },
      "source": [
        "### Config"
      ]
    },
    {
      "cell_type": "code",
      "execution_count": null,
      "metadata": {
        "id": "l3ZmhntQL6oI"
      },
      "outputs": [],
      "source": [
        "LEANRING_RATE = 0.001\n",
        "#device\n",
        "device = torch.device(\"cuda:0\" if torch.cuda.is_available() else \"cpu\")\n",
        "epochs = 30"
      ]
    },
    {
      "cell_type": "markdown",
      "metadata": {
        "id": "f-ER-OdYMD_1"
      },
      "source": [
        "### Data Preporcessing"
      ]
    },
    {
      "cell_type": "code",
      "execution_count": null,
      "metadata": {
        "id": "hhHG4wDn7_ZS"
      },
      "outputs": [],
      "source": [
        "#read data\n",
        "df_text = pd.read_csv(\"grimms_fairytales.csv\")\n",
        "list_all_text = []\n",
        "for i in range(df_text.shape[0]):\n",
        "  list_all_text.append(df_text['Text'][i])\n",
        "#get all stories \n",
        "text = \" \".join(list_all_text)"
      ]
    },
    {
      "cell_type": "code",
      "execution_count": null,
      "metadata": {
        "id": "Ku7x4waCYOAr"
      },
      "outputs": [],
      "source": [
        "#drop new line mask\n",
        "text = text.replace(\"\\n\", \"\")"
      ]
    },
    {
      "cell_type": "code",
      "execution_count": null,
      "metadata": {
        "id": "1VokxplqYowR"
      },
      "outputs": [],
      "source": [
        "#int2char, which maps integers to characters ; char2int, which maps characters to unique integers\n",
        "chars = tuple(set(text))\n",
        "int2char = dict(enumerate(chars))\n",
        "char2int = {ch: ii for ii, ch in int2char.items()}\n",
        "#encode char to interge\n",
        "encoded = np.array([char2int[ch] for ch in text])"
      ]
    },
    {
      "cell_type": "code",
      "execution_count": null,
      "metadata": {
        "id": "xlaQUBF7g8LS"
      },
      "outputs": [],
      "source": [
        "# one-hot encoded for each character \n",
        "def one_hot_encode(arr, n_labels):\n",
        "    \n",
        "    # Initialize the the encoded array\n",
        "    one_hot = np.zeros((np.multiply(*arr.shape), n_labels), dtype=np.float32)\n",
        "    \n",
        "    # Fill the appropriate elements with ones\n",
        "    one_hot[np.arange(one_hot.shape[0]), arr.flatten()] = 1.\n",
        "    \n",
        "    # Finally reshape it to get back to the original array\n",
        "    one_hot = one_hot.reshape((*arr.shape, n_labels))\n",
        "    \n",
        "    return one_hot"
      ]
    },
    {
      "cell_type": "code",
      "execution_count": null,
      "metadata": {
        "id": "TSFPQZf4hVeW"
      },
      "outputs": [],
      "source": [
        "# get data batch\n",
        "def get_batches(arr, n_seqs, n_steps):\n",
        "    '''Create a generator that returns batches of size\n",
        "       n_seqs x n_steps from arr.\n",
        "       \n",
        "       Arguments\n",
        "       ---------\n",
        "       arr: Array you want to make batches from\n",
        "       n_seqs: Batch size, the number of sequences per batch\n",
        "       n_steps: Number of sequence steps per batch\n",
        "    '''\n",
        "    \n",
        "    batch_size = n_seqs * n_steps\n",
        "    n_batches = len(arr)//batch_size\n",
        "    \n",
        "    # Keep only enough characters to make full batches\n",
        "    arr = arr[:n_batches * batch_size]\n",
        "    # Reshape into n_seqs rows\n",
        "    arr = arr.reshape((n_seqs, -1))\n",
        "    \n",
        "    for n in range(0, arr.shape[1], n_steps):\n",
        "        # The features\n",
        "        x = arr[:, n:n+n_steps]\n",
        "        # The targets, shifted by one\n",
        "        y = np.zeros_like(x)\n",
        "        try:\n",
        "            y[:, :-1], y[:, -1] = x[:, 1:], arr[:, n+n_steps]\n",
        "        except IndexError:\n",
        "            y[:, :-1], y[:, -1] = x[:, 1:], arr[:, 0]\n",
        "        yield x, y"
      ]
    },
    {
      "cell_type": "markdown",
      "metadata": {
        "id": "IlZBauAqhvq6"
      },
      "source": [
        "### Build Model"
      ]
    },
    {
      "cell_type": "code",
      "execution_count": null,
      "metadata": {
        "id": "0MpRCenJhqxv"
      },
      "outputs": [],
      "source": [
        "class LSTM(nn.Module):\n",
        "    \n",
        "    def __init__(self, tokens, device, n_steps=100, n_hidden=256, n_layers=2, drop_prob=0.3):\n",
        "        super().__init__()\n",
        "        self.drop_prob = drop_prob\n",
        "        self.n_layers = n_layers\n",
        "        self.n_hidden = n_hidden\n",
        "        self.device = device\n",
        "\n",
        "        # creating character dictionaries\n",
        "        self.chars = tokens\n",
        "        self.int2char = dict(enumerate(self.chars))\n",
        "        self.char2int = {ch: ii for ii, ch in self.int2char.items()}\n",
        "        \n",
        "        ## the LSTM\n",
        "        self.lstm = nn.LSTM(len(self.chars), n_hidden, n_layers, \n",
        "                            dropout=drop_prob, batch_first=True)\n",
        "        \n",
        "        ##  dropout layer\n",
        "        self.dropout = nn.Dropout(drop_prob)\n",
        "        \n",
        "        ## fully-connected output layer\n",
        "        self.fc = nn.Linear(n_hidden, len(self.chars))\n",
        "        \n",
        "        # initialize the weights\n",
        "        self.init_weights()\n",
        "      \n",
        "    \n",
        "    def forward(self, x, hc):\n",
        "        ''' Forward pass through the network. \n",
        "            These inputs are x, and the hidden/cell state `hc`. '''\n",
        "        \n",
        "        ## Get x, and the new hidden state (h, c) from the lstm\n",
        "        x, (h, c) = self.lstm(x, hc)\n",
        "        \n",
        "        ## pass x through a droupout layer\n",
        "        x = self.dropout(x)\n",
        "        \n",
        "        # Stack up LSTM outputs using view\n",
        "        x = x.reshape(x.size()[0]*x.size()[1], self.n_hidden)\n",
        "        \n",
        "        ## put x through the fully-connected layer\n",
        "        x = self.fc(x)\n",
        "        \n",
        "        # return x and the hidden state (h, c)\n",
        "        return x, (h, c)\n",
        "    \n",
        "    def predict(self, char, h=None, device=device, top_k=5):\n",
        "      ''' Given a character, predict the next character.\n",
        "      \n",
        "          Returns the predicted character and the hidden state.\n",
        "      '''\n",
        "      \n",
        "      \n",
        "      if h is None:\n",
        "          h = self.init_hidden(1)\n",
        "      \n",
        "      x = np.array([[self.char2int[char]]])\n",
        "      x = one_hot_encode(x, len(self.chars))\n",
        "      inputs = torch.from_numpy(x)\n",
        "      inputs = inputs.to(device)\n",
        "      \n",
        "      h = tuple([each.data for each in h])\n",
        "      out, h = self.forward(inputs, h)\n",
        "\n",
        "      p = F.softmax(out, dim=1).data\n",
        "      p = p.to(device)\n",
        "      \n",
        "      if top_k is None:\n",
        "          top_ch = np.arange(len(self.chars))\n",
        "      else:\n",
        "          p, top_ch = p.topk(top_k)\n",
        "          top_ch = top_ch.cpu().numpy().squeeze()\n",
        "      \n",
        "      p = p.cpu().numpy().squeeze()\n",
        "      char = np.random.choice(top_ch, p=p/p.sum())\n",
        "          \n",
        "      return self.int2char[char], h\n",
        "    \n",
        "    def init_weights(self):\n",
        "        ''' Initialize weights for fully connected layer '''\n",
        "        initrange = 0.1\n",
        "        \n",
        "        # Set bias tensor to all zeros\n",
        "        self.fc.bias.data.fill_(0)\n",
        "        # FC weights as random uniform\n",
        "        self.fc.weight.data.uniform_(-1, 1)\n",
        "        \n",
        "    def init_hidden(self, n_seqs):\n",
        "        ''' Initializes hidden state '''\n",
        "        # Create two new tensors with sizes n_layers x n_seqs x n_hidden,\n",
        "        # initialized to zero, for hidden state and cell state of LSTM\n",
        "        weight = next(self.parameters()).data\n",
        "        return (weight.new(self.n_layers, n_seqs, self.n_hidden).zero_(),\n",
        "                weight.new(self.n_layers, n_seqs, self.n_hidden).zero_())"
      ]
    },
    {
      "cell_type": "code",
      "execution_count": null,
      "metadata": {
        "colab": {
          "base_uri": "https://localhost:8080/"
        },
        "id": "gOD6L2i9je47",
        "outputId": "1b39b866-ec6c-46f3-f7bb-c8c0b466b2b1"
      },
      "outputs": [
        {
          "name": "stdout",
          "output_type": "stream",
          "text": [
            "LSTM(\n",
            "  (lstm): LSTM(77, 512, num_layers=2, batch_first=True, dropout=0.3)\n",
            "  (dropout): Dropout(p=0.3, inplace=False)\n",
            "  (fc): Linear(in_features=512, out_features=77, bias=True)\n",
            ")\n"
          ]
        }
      ],
      "source": [
        "# define and print the model\n",
        "model = LSTM(chars, device, n_hidden=512, n_layers=2)\n",
        "print(model)"
      ]
    },
    {
      "cell_type": "code",
      "execution_count": null,
      "metadata": {
        "id": "AuUxgYfBjn9V"
      },
      "outputs": [],
      "source": [
        "#optimizer\n",
        "optimizer = torch.optim.Adam(model.parameters(), lr=LEANRING_RATE)\n",
        "#loss function\n",
        "criterion = nn.CrossEntropyLoss()"
      ]
    },
    {
      "cell_type": "markdown",
      "metadata": {
        "id": "YSQs6KDVlQrM"
      },
      "source": [
        "### Training function"
      ]
    },
    {
      "cell_type": "code",
      "execution_count": null,
      "metadata": {
        "id": "cAS1VFFMsPkH"
      },
      "outputs": [],
      "source": [
        "def epoch_time(start_time, end_time):\n",
        "    elapsed_time = end_time - start_time\n",
        "    elapsed_mins = int(elapsed_time / 60)\n",
        "    elapsed_secs = int(elapsed_time - (elapsed_mins * 60))\n",
        "    return elapsed_mins, elapsed_secs"
      ]
    },
    {
      "cell_type": "code",
      "execution_count": null,
      "metadata": {
        "id": "vnyJ6Y9xirNL"
      },
      "outputs": [],
      "source": [
        "def train(model, data, epochs=epochs, n_seqs=10, n_steps=50, opt=optimizer, criterion=criterion, device=device):\n",
        "    ''' \n",
        "    Training a text generation network \n",
        "    '''\n",
        "    list_train_loss = []\n",
        "    list_val_loss = []\n",
        "    model.train()\n",
        "    \n",
        "    # create training and validation data\n",
        "    val_frac = 0.1 # ratio train/val\n",
        "    print_every = 50 #logging each n steps\n",
        "    clip = 5 # gradient clipping\n",
        "    best_valid_loss = float('inf') # best valid loss\n",
        "    val_idx = int(len(data)*(1-val_frac))\n",
        "    data, val_data = data[:val_idx], data[val_idx:]\n",
        "    \n",
        "    model.to(device)\n",
        "    \n",
        "    n_chars = len(model.chars)\n",
        "    for e in tqdm(range(epochs)):\n",
        "        start_time = time.monotonic()\n",
        "        h = model.init_hidden(n_seqs)\n",
        "        for x, y in get_batches(data, n_seqs, n_steps):\n",
        "        \n",
        "            # One-hot encode our data and make them Torch tensors\n",
        "            x = one_hot_encode(x, n_chars)\n",
        "            inputs, targets = torch.from_numpy(x), torch.from_numpy(y)\n",
        "            \n",
        "            inputs, targets = inputs.to(device), targets.to(device)\n",
        "\n",
        "            # Creating new variables for the hidden state, otherwise\n",
        "            # we'd backprop through the entire training history\n",
        "            \n",
        "            h = tuple([each.data for each in h])\n",
        "\n",
        "            model.zero_grad()\n",
        "            \n",
        "            output, h = model.forward(inputs, h)\n",
        "            loss = criterion(output, targets.view(n_seqs*n_steps))\n",
        "\n",
        "            loss.backward()\n",
        "            \n",
        "            # `clip_grad_norm` helps prevent the exploding gradient problem in RNNs / LSTMs.\n",
        "            nn.utils.clip_grad_norm_(model.parameters(), clip)\n",
        "\n",
        "            opt.step()\n",
        "              \n",
        "        # validation\n",
        "        val_h = model.init_hidden(n_seqs)\n",
        "        val_losses = []\n",
        "        for x, y in get_batches(val_data, n_seqs, n_steps):\n",
        "            # One-hot encode our data and make them Torch tensors\n",
        "            x = one_hot_encode(x, n_chars)\n",
        "            x, y = torch.from_numpy(x), torch.from_numpy(y)\n",
        "            \n",
        "            # Creating new variables for the hidden state, otherwise\n",
        "            # we'd backprop through the entire training history\n",
        "            val_h = tuple([each.data for each in val_h])\n",
        "            \n",
        "            inputs, targets = x, y\n",
        "            inputs, targets = inputs.to(device), targets.to(device)\n",
        "\n",
        "            output, val_h = model.forward(inputs, val_h)\n",
        "            val_loss = criterion(output, targets.view(n_seqs*n_steps))\n",
        "        # save training and validation loss\n",
        "        val_losses.append(val_loss.item())\n",
        "        list_train_loss.append(loss.item())\n",
        "        list_val_loss.append(np.mean(val_losses))\n",
        "        #save best model\n",
        "        if np.mean(val_losses) < best_valid_loss:\n",
        "            best_valid_loss = np.mean(val_losses)\n",
        "            torch.save(model.state_dict(), 'best-LSTM-model.pt')\n",
        "        end_time = time.monotonic()\n",
        "\n",
        "        epoch_mins, epoch_secs = epoch_time(start_time, end_time)\n",
        "\n",
        "        print(f'\\n Epoch: {e+1:02} | Epoch Time: {epoch_mins}m {epoch_secs}s')\n",
        "        print(f'\\tTrain Loss: {loss.item():.3f} ')\n",
        "        print(f'\\t Val. Loss: {np.mean(val_losses):.3f} ')\n",
        "    return list_train_loss, list_val_loss"
      ]
    },
    {
      "cell_type": "markdown",
      "metadata": {
        "id": "WCNfCXXalZbi"
      },
      "source": [
        "### Start Training"
      ]
    },
    {
      "cell_type": "code",
      "execution_count": null,
      "metadata": {
        "colab": {
          "base_uri": "https://localhost:8080/"
        },
        "id": "sfS_RAOGlTIC",
        "outputId": "4b02329e-f1ef-4530-96f2-8da474bb1921"
      },
      "outputs": [
        {
          "name": "stderr",
          "output_type": "stream",
          "text": [
            "  3%|▎         | 1/30 [00:03<01:49,  3.77s/it]"
          ]
        },
        {
          "name": "stdout",
          "output_type": "stream",
          "text": [
            "\n",
            " Epoch: 01 | Epoch Time: 0m 3s\n",
            "\tTrain Loss: 2.825 \n",
            "\t Val. Loss: 2.798 \n"
          ]
        },
        {
          "name": "stderr",
          "output_type": "stream",
          "text": [
            "\r  7%|▋         | 2/30 [00:06<01:35,  3.42s/it]"
          ]
        },
        {
          "name": "stdout",
          "output_type": "stream",
          "text": [
            "\n",
            " Epoch: 02 | Epoch Time: 0m 3s\n",
            "\tTrain Loss: 2.366 \n",
            "\t Val. Loss: 2.319 \n"
          ]
        },
        {
          "name": "stderr",
          "output_type": "stream",
          "text": [
            "\r 10%|█         | 3/30 [00:10<01:30,  3.37s/it]"
          ]
        },
        {
          "name": "stdout",
          "output_type": "stream",
          "text": [
            "\n",
            " Epoch: 03 | Epoch Time: 0m 3s\n",
            "\tTrain Loss: 2.208 \n",
            "\t Val. Loss: 2.163 \n"
          ]
        },
        {
          "name": "stderr",
          "output_type": "stream",
          "text": [
            "\r 13%|█▎        | 4/30 [00:13<01:24,  3.25s/it]"
          ]
        },
        {
          "name": "stdout",
          "output_type": "stream",
          "text": [
            "\n",
            " Epoch: 04 | Epoch Time: 0m 3s\n",
            "\tTrain Loss: 2.111 \n",
            "\t Val. Loss: 2.060 \n"
          ]
        },
        {
          "name": "stderr",
          "output_type": "stream",
          "text": [
            "\r 17%|█▋        | 5/30 [00:16<01:19,  3.19s/it]"
          ]
        },
        {
          "name": "stdout",
          "output_type": "stream",
          "text": [
            "\n",
            " Epoch: 05 | Epoch Time: 0m 3s\n",
            "\tTrain Loss: 2.024 \n",
            "\t Val. Loss: 1.989 \n"
          ]
        },
        {
          "name": "stderr",
          "output_type": "stream",
          "text": [
            "\r 20%|██        | 6/30 [00:19<01:15,  3.15s/it]"
          ]
        },
        {
          "name": "stdout",
          "output_type": "stream",
          "text": [
            "\n",
            " Epoch: 06 | Epoch Time: 0m 3s\n",
            "\tTrain Loss: 1.953 \n",
            "\t Val. Loss: 1.918 \n"
          ]
        },
        {
          "name": "stderr",
          "output_type": "stream",
          "text": [
            "\r 23%|██▎       | 7/30 [00:22<01:12,  3.14s/it]"
          ]
        },
        {
          "name": "stdout",
          "output_type": "stream",
          "text": [
            "\n",
            " Epoch: 07 | Epoch Time: 0m 3s\n",
            "\tTrain Loss: 1.900 \n",
            "\t Val. Loss: 1.881 \n"
          ]
        },
        {
          "name": "stderr",
          "output_type": "stream",
          "text": [
            "\r 27%|██▋       | 8/30 [00:25<01:08,  3.13s/it]"
          ]
        },
        {
          "name": "stdout",
          "output_type": "stream",
          "text": [
            "\n",
            " Epoch: 08 | Epoch Time: 0m 3s\n",
            "\tTrain Loss: 1.829 \n",
            "\t Val. Loss: 1.818 \n"
          ]
        },
        {
          "name": "stderr",
          "output_type": "stream",
          "text": [
            "\r 30%|███       | 9/30 [00:28<01:05,  3.12s/it]"
          ]
        },
        {
          "name": "stdout",
          "output_type": "stream",
          "text": [
            "\n",
            " Epoch: 09 | Epoch Time: 0m 3s\n",
            "\tTrain Loss: 1.789 \n",
            "\t Val. Loss: 1.780 \n"
          ]
        },
        {
          "name": "stderr",
          "output_type": "stream",
          "text": [
            "\r 33%|███▎      | 10/30 [00:31<01:02,  3.12s/it]"
          ]
        },
        {
          "name": "stdout",
          "output_type": "stream",
          "text": [
            "\n",
            " Epoch: 10 | Epoch Time: 0m 3s\n",
            "\tTrain Loss: 1.736 \n",
            "\t Val. Loss: 1.732 \n"
          ]
        },
        {
          "name": "stderr",
          "output_type": "stream",
          "text": [
            "\r 37%|███▋      | 11/30 [00:35<00:59,  3.13s/it]"
          ]
        },
        {
          "name": "stdout",
          "output_type": "stream",
          "text": [
            "\n",
            " Epoch: 11 | Epoch Time: 0m 3s\n",
            "\tTrain Loss: 1.701 \n",
            "\t Val. Loss: 1.709 \n"
          ]
        },
        {
          "name": "stderr",
          "output_type": "stream",
          "text": [
            "\r 40%|████      | 12/30 [00:38<00:56,  3.13s/it]"
          ]
        },
        {
          "name": "stdout",
          "output_type": "stream",
          "text": [
            "\n",
            " Epoch: 12 | Epoch Time: 0m 3s\n",
            "\tTrain Loss: 1.657 \n",
            "\t Val. Loss: 1.676 \n"
          ]
        },
        {
          "name": "stderr",
          "output_type": "stream",
          "text": [
            "\r 43%|████▎     | 13/30 [00:41<00:53,  3.14s/it]"
          ]
        },
        {
          "name": "stdout",
          "output_type": "stream",
          "text": [
            "\n",
            " Epoch: 13 | Epoch Time: 0m 3s\n",
            "\tTrain Loss: 1.622 \n",
            "\t Val. Loss: 1.643 \n"
          ]
        },
        {
          "name": "stderr",
          "output_type": "stream",
          "text": [
            "\r 47%|████▋     | 14/30 [00:44<00:50,  3.14s/it]"
          ]
        },
        {
          "name": "stdout",
          "output_type": "stream",
          "text": [
            "\n",
            " Epoch: 14 | Epoch Time: 0m 3s\n",
            "\tTrain Loss: 1.593 \n",
            "\t Val. Loss: 1.620 \n"
          ]
        },
        {
          "name": "stderr",
          "output_type": "stream",
          "text": [
            "\r 50%|█████     | 15/30 [00:47<00:47,  3.14s/it]"
          ]
        },
        {
          "name": "stdout",
          "output_type": "stream",
          "text": [
            "\n",
            " Epoch: 15 | Epoch Time: 0m 3s\n",
            "\tTrain Loss: 1.557 \n",
            "\t Val. Loss: 1.606 \n"
          ]
        },
        {
          "name": "stderr",
          "output_type": "stream",
          "text": [
            "\r 53%|█████▎    | 16/30 [00:50<00:44,  3.15s/it]"
          ]
        },
        {
          "name": "stdout",
          "output_type": "stream",
          "text": [
            "\n",
            " Epoch: 16 | Epoch Time: 0m 3s\n",
            "\tTrain Loss: 1.529 \n",
            "\t Val. Loss: 1.581 \n"
          ]
        },
        {
          "name": "stderr",
          "output_type": "stream",
          "text": [
            "\r 57%|█████▋    | 17/30 [00:54<00:41,  3.16s/it]"
          ]
        },
        {
          "name": "stdout",
          "output_type": "stream",
          "text": [
            "\n",
            " Epoch: 17 | Epoch Time: 0m 3s\n",
            "\tTrain Loss: 1.498 \n",
            "\t Val. Loss: 1.559 \n"
          ]
        },
        {
          "name": "stderr",
          "output_type": "stream",
          "text": [
            "\r 60%|██████    | 18/30 [00:57<00:37,  3.17s/it]"
          ]
        },
        {
          "name": "stdout",
          "output_type": "stream",
          "text": [
            "\n",
            " Epoch: 18 | Epoch Time: 0m 3s\n",
            "\tTrain Loss: 1.478 \n",
            "\t Val. Loss: 1.544 \n"
          ]
        },
        {
          "name": "stderr",
          "output_type": "stream",
          "text": [
            "\r 63%|██████▎   | 19/30 [01:00<00:34,  3.15s/it]"
          ]
        },
        {
          "name": "stdout",
          "output_type": "stream",
          "text": [
            "\n",
            " Epoch: 19 | Epoch Time: 0m 3s\n",
            "\tTrain Loss: 1.450 \n",
            "\t Val. Loss: 1.544 \n"
          ]
        },
        {
          "name": "stderr",
          "output_type": "stream",
          "text": [
            "\r 67%|██████▋   | 20/30 [01:03<00:31,  3.17s/it]"
          ]
        },
        {
          "name": "stdout",
          "output_type": "stream",
          "text": [
            "\n",
            " Epoch: 20 | Epoch Time: 0m 3s\n",
            "\tTrain Loss: 1.428 \n",
            "\t Val. Loss: 1.527 \n"
          ]
        },
        {
          "name": "stderr",
          "output_type": "stream",
          "text": [
            "\r 70%|███████   | 21/30 [01:06<00:28,  3.16s/it]"
          ]
        },
        {
          "name": "stdout",
          "output_type": "stream",
          "text": [
            "\n",
            " Epoch: 21 | Epoch Time: 0m 3s\n",
            "\tTrain Loss: 1.406 \n",
            "\t Val. Loss: 1.517 \n"
          ]
        },
        {
          "name": "stderr",
          "output_type": "stream",
          "text": [
            "\r 73%|███████▎  | 22/30 [01:09<00:25,  3.16s/it]"
          ]
        },
        {
          "name": "stdout",
          "output_type": "stream",
          "text": [
            "\n",
            " Epoch: 22 | Epoch Time: 0m 3s\n",
            "\tTrain Loss: 1.387 \n",
            "\t Val. Loss: 1.503 \n"
          ]
        },
        {
          "name": "stderr",
          "output_type": "stream",
          "text": [
            "\r 77%|███████▋  | 23/30 [01:12<00:22,  3.15s/it]"
          ]
        },
        {
          "name": "stdout",
          "output_type": "stream",
          "text": [
            "\n",
            " Epoch: 23 | Epoch Time: 0m 3s\n",
            "\tTrain Loss: 1.373 \n",
            "\t Val. Loss: 1.501 \n"
          ]
        },
        {
          "name": "stderr",
          "output_type": "stream",
          "text": [
            "\r 80%|████████  | 24/30 [01:16<00:18,  3.16s/it]"
          ]
        },
        {
          "name": "stdout",
          "output_type": "stream",
          "text": [
            "\n",
            " Epoch: 24 | Epoch Time: 0m 3s\n",
            "\tTrain Loss: 1.345 \n",
            "\t Val. Loss: 1.495 \n"
          ]
        },
        {
          "name": "stderr",
          "output_type": "stream",
          "text": [
            "\r 83%|████████▎ | 25/30 [01:19<00:15,  3.17s/it]"
          ]
        },
        {
          "name": "stdout",
          "output_type": "stream",
          "text": [
            "\n",
            " Epoch: 25 | Epoch Time: 0m 3s\n",
            "\tTrain Loss: 1.330 \n",
            "\t Val. Loss: 1.488 \n"
          ]
        },
        {
          "name": "stderr",
          "output_type": "stream",
          "text": [
            "\r 87%|████████▋ | 26/30 [01:22<00:12,  3.16s/it]"
          ]
        },
        {
          "name": "stdout",
          "output_type": "stream",
          "text": [
            "\n",
            " Epoch: 26 | Epoch Time: 0m 3s\n",
            "\tTrain Loss: 1.305 \n",
            "\t Val. Loss: 1.502 \n"
          ]
        },
        {
          "name": "stderr",
          "output_type": "stream",
          "text": [
            "\r 90%|█████████ | 27/30 [01:25<00:09,  3.15s/it]"
          ]
        },
        {
          "name": "stdout",
          "output_type": "stream",
          "text": [
            "\n",
            " Epoch: 27 | Epoch Time: 0m 3s\n",
            "\tTrain Loss: 1.290 \n",
            "\t Val. Loss: 1.489 \n"
          ]
        },
        {
          "name": "stderr",
          "output_type": "stream",
          "text": [
            "\r 93%|█████████▎| 28/30 [01:28<00:06,  3.14s/it]"
          ]
        },
        {
          "name": "stdout",
          "output_type": "stream",
          "text": [
            "\n",
            " Epoch: 28 | Epoch Time: 0m 3s\n",
            "\tTrain Loss: 1.273 \n",
            "\t Val. Loss: 1.491 \n"
          ]
        },
        {
          "name": "stderr",
          "output_type": "stream",
          "text": [
            "\r 97%|█████████▋| 29/30 [01:32<00:03,  3.21s/it]"
          ]
        },
        {
          "name": "stdout",
          "output_type": "stream",
          "text": [
            "\n",
            " Epoch: 29 | Epoch Time: 0m 3s\n",
            "\tTrain Loss: 1.261 \n",
            "\t Val. Loss: 1.485 \n"
          ]
        },
        {
          "name": "stderr",
          "output_type": "stream",
          "text": [
            "100%|██████████| 30/30 [01:35<00:00,  3.18s/it]"
          ]
        },
        {
          "name": "stdout",
          "output_type": "stream",
          "text": [
            "\n",
            " Epoch: 30 | Epoch Time: 0m 3s\n",
            "\tTrain Loss: 1.239 \n",
            "\t Val. Loss: 1.479 \n"
          ]
        },
        {
          "name": "stderr",
          "output_type": "stream",
          "text": [
            "\n"
          ]
        }
      ],
      "source": [
        "#training model\n",
        "n_seqs, n_steps = 128, 100\n",
        "list_train_loss, list_val_loss = train(model, encoded,  n_seqs=n_seqs, n_steps=n_steps)"
      ]
    },
    {
      "cell_type": "code",
      "execution_count": null,
      "metadata": {
        "colab": {
          "base_uri": "https://localhost:8080/",
          "height": 477
        },
        "id": "JuHwBfoVnkQO",
        "outputId": "94831b1d-2d78-4823-e3ee-bb38ffff3bf6"
      },
      "outputs": [
        {
          "data": {
            "image/png": "[encoded data removed]",
            "text/plain": [
              "<Figure size 640x480 with 1 Axes>"
            ]
          },
          "metadata": {},
          "output_type": "display_data"
        }
      ],
      "source": [
        "# plot training & validation loss\n",
        "n_epochs = range(1, epochs+1)\n",
        " \n",
        "# Plot and label the training and validation loss values\n",
        "# Use our custom style\n",
        "plt.style.use('ggplot')\n",
        "plt.plot(n_epochs, list_train_loss, 'g', label='Training Loss')\n",
        "plt.plot(n_epochs, list_val_loss,  'b', label='Validation Loss')\n",
        " \n",
        "# Add in a title and axes labels\n",
        "plt.title('Training and Validation Loss')\n",
        "plt.xlabel('Epochs')\n",
        "plt.ylabel('Loss')\n",
        " \n",
        "# Set the tick locations\n",
        "plt.xticks(range(1, epochs+1, 3))\n",
        " \n",
        "# Display the plot\n",
        "plt.legend(loc='best')\n",
        "plt.show()"
      ]
    },
    {
      "cell_type": "markdown",
      "metadata": {
        "id": "hMmz6dD3yjUa"
      },
      "source": [
        "**Both Training loss and validation loss gradually descrease, it shows that model learning process is effective.**"
      ]
    },
    {
      "cell_type": "markdown",
      "metadata": {
        "id": "bo363ymIszpn"
      },
      "source": [
        "### Text Generation"
      ]
    },
    {
      "cell_type": "code",
      "execution_count": null,
      "metadata": {
        "colab": {
          "base_uri": "https://localhost:8080/"
        },
        "id": "VOfWSiVes06j",
        "outputId": "2449cf6f-af53-454e-d5b5-43e2f51a9a19"
      },
      "outputs": [
        {
          "data": {
            "text/plain": [
              "<All keys matched successfully>"
            ]
          },
          "execution_count": 17,
          "metadata": {},
          "output_type": "execute_result"
        }
      ],
      "source": [
        "# load the best checkpoint\n",
        "model.load_state_dict(torch.load('best-LSTM-model.pt'))"
      ]
    },
    {
      "cell_type": "code",
      "execution_count": null,
      "metadata": {
        "id": "qM4MMde3HM8W"
      },
      "outputs": [],
      "source": [
        "def text_generation(model, seq_length, input_text='a'):\n",
        "    \"\"\"\n",
        "    Funcion to generate new character using trained deep model\n",
        "    \"\"\"\n",
        "    model.eval()\n",
        "    \n",
        "    # First off, run through the prime characters\n",
        "    chars = [ch for ch in input_text]\n",
        "    h = model.init_hidden(1)\n",
        "    for ch in input_text:\n",
        "        char, h = model.predict(ch, h)\n",
        "\n",
        "    chars.append(char)\n",
        "    \n",
        "    # Now pass in the previous character and get a new one\n",
        "    for ii in range(seq_length):\n",
        "        char, h = model.predict(chars[-1], h)\n",
        "        chars.append(char)\n",
        "\n",
        "    return ''.join(chars)"
      ]
    },
    {
      "cell_type": "code",
      "execution_count": null,
      "metadata": {
        "id": "HpdVCF-twUQx"
      },
      "outputs": [],
      "source": [
        "generate_text = text_generation(model, seq_length=500, input_text='story')"
      ]
    },
    {
      "cell_type": "code",
      "execution_count": null,
      "metadata": {
        "colab": {
          "base_uri": "https://localhost:8080/",
          "height": 72
        },
        "id": "tOiM33Akwbw5",
        "outputId": "18e0e6e3-e8c2-464e-945e-5e65e063c5ea"
      },
      "outputs": [
        {
          "data": {
            "application/vnd.google.colaboratory.intrinsic+json": {
              "type": "string"
            },
            "text/plain": [
              "'story winders; and as they were all sones towards to get out together for a bird singing, and was so to she had as tookingdown his wife; andhas she said tohimself, ‘If I can that was back to mark as have to stands.’ Then he went and looked another husband, but had brought in the child of the bride and croess. They said the peasants were all that he wished how it aspones that they could so, then he will go hometo her wood. Then the father had sicked a little sprong, help takeread any still the were to '"
            ]
          },
          "execution_count": 20,
          "metadata": {},
          "output_type": "execute_result"
        }
      ],
      "source": [
        "generate_text"
      ]
    },
    {
      "cell_type": "markdown",
      "metadata": {
        "id": "GOMkz7v5y0gW"
      },
      "source": [
        "**Generating text results are quite good since the results are very closed with true store. It proves that LSTM model is very good for sequene data.**"
      ]
    },
    {
      "cell_type": "markdown",
      "metadata": {
        "id": "SWqaLT1PyJpe"
      },
      "source": [
        "### GRU Model"
      ]
    },
    {
      "cell_type": "code",
      "execution_count": null,
      "metadata": {
        "id": "MQiU5M-MGlV3"
      },
      "outputs": [],
      "source": [
        "class GRU(nn.Module):\n",
        "    \n",
        "    def __init__(self, tokens, device, n_steps=100, n_hidden=256, n_layers=2, drop_prob=0.3):\n",
        "        super().__init__()\n",
        "        self.drop_prob = drop_prob\n",
        "        self.n_layers = n_layers\n",
        "        self.n_hidden = n_hidden\n",
        "        self.device = device\n",
        "\n",
        "        # creating character dictionaries\n",
        "        self.chars = tokens\n",
        "        self.int2char = dict(enumerate(self.chars))\n",
        "        self.char2int = {ch: ii for ii, ch in self.int2char.items()}\n",
        "        \n",
        "        ## the GRU\n",
        "        self.gru = nn.GRU(len(self.chars), n_hidden, n_layers, \n",
        "                            dropout=drop_prob, batch_first=True)\n",
        "        \n",
        "        ##  dropout layer\n",
        "        self.dropout = nn.Dropout(drop_prob)\n",
        "        \n",
        "        ## fully-connected output layer\n",
        "        self.fc = nn.Linear(n_hidden, len(self.chars))\n",
        "        \n",
        "        # initialize the weights\n",
        "        self.init_weights()\n",
        "      \n",
        "    \n",
        "    def forward(self, x, hc):\n",
        "        ''' Forward pass through the network. \n",
        "            These inputs are x, and the hidden/cell state `hc`. '''\n",
        "        \n",
        "        ## Get x, and the new hidden state (h, c) from the lstm\n",
        "        x, h = self.gru(x, hc)\n",
        "        \n",
        "        ## pass x through a droupout layer\n",
        "        x = self.dropout(x)\n",
        "        \n",
        "        # Stack up GRU outputs using view\n",
        "        x = x.reshape(x.size()[0]*x.size()[1], self.n_hidden)\n",
        "        \n",
        "        ## put x through the fully-connected layer\n",
        "        x = self.fc(x)\n",
        "        \n",
        "        # return x and the hidden state h\n",
        "        return x, h\n",
        "    \n",
        "    def predict(self, char, h=None, device=device, top_k=5):\n",
        "      ''' Given a character, predict the next character.\n",
        "      \n",
        "          Returns the predicted character and the hidden state.\n",
        "      '''\n",
        "      \n",
        "      \n",
        "      if h is None:\n",
        "          h = self.init_hidden(1)\n",
        "      \n",
        "      x = np.array([[self.char2int[char]]])\n",
        "      x = one_hot_encode(x, len(self.chars))\n",
        "      inputs = torch.from_numpy(x)\n",
        "      inputs = inputs.to(device)\n",
        "      \n",
        "      h = h.data\n",
        "      h = h.to(device)\n",
        "     \n",
        "      out, h = self.forward(inputs, h)\n",
        "\n",
        "      p = F.softmax(out, dim=1).data\n",
        "      p = p.to(device)\n",
        "      \n",
        "      if top_k is None:\n",
        "          top_ch = np.arange(len(self.chars))\n",
        "      else:\n",
        "          p, top_ch = p.topk(top_k)\n",
        "          top_ch = top_ch.cpu().numpy().squeeze()\n",
        "      \n",
        "      p = p.cpu().numpy().squeeze()\n",
        "      char = np.random.choice(top_ch, p=p/p.sum())\n",
        "          \n",
        "      return self.int2char[char], h\n",
        "    \n",
        "    def init_weights(self):\n",
        "        ''' Initialize weights for fully connected layer '''\n",
        "        initrange = 0.1\n",
        "        \n",
        "        # Set bias tensor to all zeros\n",
        "        self.fc.bias.data.fill_(0)\n",
        "        # FC weights as random uniform\n",
        "        self.fc.weight.data.uniform_(-1, 1)\n",
        "        \n",
        "    def init_hidden(self, n_seqs):\n",
        "        ''' Initializes hidden state '''\n",
        "        # Create two new tensors with sizes n_layers x n_seqs x n_hidden,\n",
        "        # initialized to zero, for hidden state and cell state of LSTM\n",
        "        weight = next(self.parameters()).data\n",
        "        return weight.new(self.n_layers, n_seqs, self.n_hidden).zero_()#, #weight.new(self.n_layers, n_seqs, self.n_hidden).zero_())"
      ]
    },
    {
      "cell_type": "code",
      "execution_count": null,
      "metadata": {
        "colab": {
          "base_uri": "https://localhost:8080/"
        },
        "id": "NdwSVGYvzLHK",
        "outputId": "e504fc82-b959-49a0-a4d7-b93e3fa2b700"
      },
      "outputs": [
        {
          "name": "stdout",
          "output_type": "stream",
          "text": [
            "GRU(\n",
            "  (gru): GRU(77, 512, num_layers=2, batch_first=True, dropout=0.3)\n",
            "  (dropout): Dropout(p=0.3, inplace=False)\n",
            "  (fc): Linear(in_features=512, out_features=77, bias=True)\n",
            ")\n"
          ]
        }
      ],
      "source": [
        "# define and print the model\n",
        "model = GRU(chars, device, n_hidden=512, n_layers=2)\n",
        "model = model.to(device)\n",
        "print(model)"
      ]
    },
    {
      "cell_type": "code",
      "execution_count": null,
      "metadata": {
        "id": "WmsNxBRb-Vx9"
      },
      "outputs": [],
      "source": [
        "#optimizer\n",
        "optimizer = torch.optim.Adam(model.parameters(), lr=LEANRING_RATE)\n",
        "#loss function\n",
        "criterion = nn.CrossEntropyLoss()"
      ]
    },
    {
      "cell_type": "code",
      "execution_count": null,
      "metadata": {
        "id": "f_nFgXWt2rl-"
      },
      "outputs": [],
      "source": [
        "def train_gru(model, data, epochs=epochs, n_seqs=10, n_steps=50, opt=optimizer, criterion=criterion, device=device):\n",
        "    ''' \n",
        "    Training a text generation network \n",
        "    '''\n",
        "    list_train_loss = []\n",
        "    list_val_loss = []\n",
        "    model.train()\n",
        "    \n",
        "    # create training and validation data\n",
        "    val_frac = 0.1 # ratio train/val\n",
        "    print_every = 50 #logging each n steps\n",
        "    clip = 5 # gradient clipping\n",
        "    best_valid_loss = float('inf') # best valid loss\n",
        "    val_idx = int(len(data)*(1-val_frac))\n",
        "    data, val_data = data[:val_idx], data[val_idx:]\n",
        "    \n",
        "    model.to(device)\n",
        "    \n",
        "    n_chars = len(model.chars)\n",
        "    for e in tqdm(range(epochs)):\n",
        "        start_time = time.monotonic()\n",
        "        h = model.init_hidden(n_seqs)\n",
        "      \n",
        "        for x, y in get_batches(data, n_seqs, n_steps):\n",
        "        \n",
        "            # One-hot encode our data and make them Torch tensors\n",
        "            x = one_hot_encode(x, n_chars)\n",
        "            inputs, targets = torch.from_numpy(x), torch.from_numpy(y)\n",
        "            \n",
        "            inputs, targets = inputs.to(device), targets.to(device)\n",
        "\n",
        "            # Creating new variables for the hidden state, otherwise\n",
        "            # we'd backprop through the entire training history\n",
        "            h = h.data\n",
        "\n",
        "            model.zero_grad()\n",
        "            \n",
        "            output, h = model.forward(inputs, h)\n",
        "            loss = criterion(output, targets.view(n_seqs*n_steps))\n",
        "\n",
        "            loss.backward()\n",
        "            \n",
        "            # clip_grad_norm` helps prevent the exploding gradient problem in RNNs / LSTMs.\n",
        "            nn.utils.clip_grad_norm_(model.parameters(), clip)\n",
        "\n",
        "            opt.step()\n",
        "              \n",
        "        # validation\n",
        "        val_h = model.init_hidden(n_seqs)\n",
        "        val_losses = []\n",
        "        for x, y in get_batches(val_data, n_seqs, n_steps):\n",
        "            # One-hot encode our data and make them Torch tensors\n",
        "            x = one_hot_encode(x, n_chars)\n",
        "            x, y = torch.from_numpy(x), torch.from_numpy(y)\n",
        "            \n",
        "            # Creating new variables for the hidden state, otherwise\n",
        "            # we'd backprop through the entire training history\n",
        "            # val_h = tuple([each.data for each in val_h])\n",
        "            val_h = val_h.data\n",
        "            \n",
        "            inputs, targets = x, y\n",
        "            inputs, targets = inputs.to(device), targets.to(device)\n",
        "\n",
        "            output, val_h = model.forward(inputs, val_h)\n",
        "            val_loss = criterion(output, targets.view(n_seqs*n_steps))\n",
        "        # save training and validation loss\n",
        "        val_losses.append(val_loss.item())\n",
        "        list_train_loss.append(loss.item())\n",
        "        list_val_loss.append(np.mean(val_losses))\n",
        "        #save best model\n",
        "        if np.mean(val_losses) < best_valid_loss:\n",
        "            best_valid_loss = np.mean(val_losses)\n",
        "            torch.save(model.state_dict(), 'best-GRU-model.pt')\n",
        "        end_time = time.monotonic()\n",
        "\n",
        "        epoch_mins, epoch_secs = epoch_time(start_time, end_time)\n",
        "\n",
        "        print(f'\\n Epoch: {e+1:02} | Epoch Time: {epoch_mins}m {epoch_secs}s')\n",
        "        print(f'\\tTrain Loss: {loss.item():.3f} ')\n",
        "        print(f'\\t Val. Loss: {np.mean(val_losses):.3f} ')\n",
        "    return list_train_loss, list_val_loss"
      ]
    },
    {
      "cell_type": "code",
      "execution_count": null,
      "metadata": {
        "colab": {
          "base_uri": "https://localhost:8080/"
        },
        "id": "9n76uP4EzW6w",
        "outputId": "c67eb698-7b52-45e7-f6c3-3952c31fc425"
      },
      "outputs": [
        {
          "name": "stderr",
          "output_type": "stream",
          "text": [
            "  3%|▎         | 1/30 [00:02<01:16,  2.65s/it]"
          ]
        },
        {
          "name": "stdout",
          "output_type": "stream",
          "text": [
            "\n",
            " Epoch: 01 | Epoch Time: 0m 2s\n",
            "\tTrain Loss: 2.468 \n",
            "\t Val. Loss: 2.408 \n"
          ]
        },
        {
          "name": "stderr",
          "output_type": "stream",
          "text": [
            "\r  7%|▋         | 2/30 [00:05<01:14,  2.65s/it]"
          ]
        },
        {
          "name": "stdout",
          "output_type": "stream",
          "text": [
            "\n",
            " Epoch: 02 | Epoch Time: 0m 2s\n",
            "\tTrain Loss: 2.230 \n",
            "\t Val. Loss: 2.176 \n"
          ]
        },
        {
          "name": "stderr",
          "output_type": "stream",
          "text": [
            "\r 10%|█         | 3/30 [00:07<01:11,  2.66s/it]"
          ]
        },
        {
          "name": "stdout",
          "output_type": "stream",
          "text": [
            "\n",
            " Epoch: 03 | Epoch Time: 0m 2s\n",
            "\tTrain Loss: 2.131 \n",
            "\t Val. Loss: 2.082 \n"
          ]
        },
        {
          "name": "stderr",
          "output_type": "stream",
          "text": [
            "\r 13%|█▎        | 4/30 [00:10<01:09,  2.66s/it]"
          ]
        },
        {
          "name": "stdout",
          "output_type": "stream",
          "text": [
            "\n",
            " Epoch: 04 | Epoch Time: 0m 2s\n",
            "\tTrain Loss: 2.059 \n",
            "\t Val. Loss: 2.011 \n"
          ]
        },
        {
          "name": "stderr",
          "output_type": "stream",
          "text": [
            "\r 17%|█▋        | 5/30 [00:13<01:06,  2.67s/it]"
          ]
        },
        {
          "name": "stdout",
          "output_type": "stream",
          "text": [
            "\n",
            " Epoch: 05 | Epoch Time: 0m 2s\n",
            "\tTrain Loss: 1.988 \n",
            "\t Val. Loss: 1.945 \n"
          ]
        },
        {
          "name": "stderr",
          "output_type": "stream",
          "text": [
            "\r 20%|██        | 6/30 [00:15<01:03,  2.67s/it]"
          ]
        },
        {
          "name": "stdout",
          "output_type": "stream",
          "text": [
            "\n",
            " Epoch: 06 | Epoch Time: 0m 2s\n",
            "\tTrain Loss: 1.926 \n",
            "\t Val. Loss: 1.894 \n"
          ]
        },
        {
          "name": "stderr",
          "output_type": "stream",
          "text": [
            "\r 23%|██▎       | 7/30 [00:18<01:01,  2.67s/it]"
          ]
        },
        {
          "name": "stdout",
          "output_type": "stream",
          "text": [
            "\n",
            " Epoch: 07 | Epoch Time: 0m 2s\n",
            "\tTrain Loss: 1.859 \n",
            "\t Val. Loss: 1.846 \n"
          ]
        },
        {
          "name": "stderr",
          "output_type": "stream",
          "text": [
            "\r 27%|██▋       | 8/30 [00:21<00:58,  2.68s/it]"
          ]
        },
        {
          "name": "stdout",
          "output_type": "stream",
          "text": [
            "\n",
            " Epoch: 08 | Epoch Time: 0m 2s\n",
            "\tTrain Loss: 1.812 \n",
            "\t Val. Loss: 1.805 \n"
          ]
        },
        {
          "name": "stderr",
          "output_type": "stream",
          "text": [
            "\r 30%|███       | 9/30 [00:24<00:56,  2.68s/it]"
          ]
        },
        {
          "name": "stdout",
          "output_type": "stream",
          "text": [
            "\n",
            " Epoch: 09 | Epoch Time: 0m 2s\n",
            "\tTrain Loss: 1.765 \n",
            "\t Val. Loss: 1.768 \n"
          ]
        },
        {
          "name": "stderr",
          "output_type": "stream",
          "text": [
            "\r 33%|███▎      | 10/30 [00:26<00:53,  2.69s/it]"
          ]
        },
        {
          "name": "stdout",
          "output_type": "stream",
          "text": [
            "\n",
            " Epoch: 10 | Epoch Time: 0m 2s\n",
            "\tTrain Loss: 1.728 \n",
            "\t Val. Loss: 1.734 \n"
          ]
        },
        {
          "name": "stderr",
          "output_type": "stream",
          "text": [
            "\r 37%|███▋      | 11/30 [00:29<00:51,  2.69s/it]"
          ]
        },
        {
          "name": "stdout",
          "output_type": "stream",
          "text": [
            "\n",
            " Epoch: 11 | Epoch Time: 0m 2s\n",
            "\tTrain Loss: 1.686 \n",
            "\t Val. Loss: 1.713 \n"
          ]
        },
        {
          "name": "stderr",
          "output_type": "stream",
          "text": [
            "\r 40%|████      | 12/30 [00:32<00:48,  2.69s/it]"
          ]
        },
        {
          "name": "stdout",
          "output_type": "stream",
          "text": [
            "\n",
            " Epoch: 12 | Epoch Time: 0m 2s\n",
            "\tTrain Loss: 1.663 \n",
            "\t Val. Loss: 1.677 \n"
          ]
        },
        {
          "name": "stderr",
          "output_type": "stream",
          "text": [
            "\r 43%|████▎     | 13/30 [00:34<00:45,  2.69s/it]"
          ]
        },
        {
          "name": "stdout",
          "output_type": "stream",
          "text": [
            "\n",
            " Epoch: 13 | Epoch Time: 0m 2s\n",
            "\tTrain Loss: 1.624 \n",
            "\t Val. Loss: 1.657 \n"
          ]
        },
        {
          "name": "stderr",
          "output_type": "stream",
          "text": [
            "\r 47%|████▋     | 14/30 [00:37<00:43,  2.70s/it]"
          ]
        },
        {
          "name": "stdout",
          "output_type": "stream",
          "text": [
            "\n",
            " Epoch: 14 | Epoch Time: 0m 2s\n",
            "\tTrain Loss: 1.596 \n",
            "\t Val. Loss: 1.640 \n"
          ]
        },
        {
          "name": "stderr",
          "output_type": "stream",
          "text": [
            "\r 50%|█████     | 15/30 [00:40<00:40,  2.70s/it]"
          ]
        },
        {
          "name": "stdout",
          "output_type": "stream",
          "text": [
            "\n",
            " Epoch: 15 | Epoch Time: 0m 2s\n",
            "\tTrain Loss: 1.573 \n",
            "\t Val. Loss: 1.624 \n"
          ]
        },
        {
          "name": "stderr",
          "output_type": "stream",
          "text": [
            "\r 53%|█████▎    | 16/30 [00:42<00:37,  2.70s/it]"
          ]
        },
        {
          "name": "stdout",
          "output_type": "stream",
          "text": [
            "\n",
            " Epoch: 16 | Epoch Time: 0m 2s\n",
            "\tTrain Loss: 1.550 \n",
            "\t Val. Loss: 1.605 \n"
          ]
        },
        {
          "name": "stderr",
          "output_type": "stream",
          "text": [
            "\r 57%|█████▋    | 17/30 [00:45<00:35,  2.70s/it]"
          ]
        },
        {
          "name": "stdout",
          "output_type": "stream",
          "text": [
            "\n",
            " Epoch: 17 | Epoch Time: 0m 2s\n",
            "\tTrain Loss: 1.527 \n",
            "\t Val. Loss: 1.592 \n"
          ]
        },
        {
          "name": "stderr",
          "output_type": "stream",
          "text": [
            "\r 60%|██████    | 18/30 [00:48<00:32,  2.71s/it]"
          ]
        },
        {
          "name": "stdout",
          "output_type": "stream",
          "text": [
            "\n",
            " Epoch: 18 | Epoch Time: 0m 2s\n",
            "\tTrain Loss: 1.517 \n",
            "\t Val. Loss: 1.571 \n"
          ]
        },
        {
          "name": "stderr",
          "output_type": "stream",
          "text": [
            "\r 63%|██████▎   | 19/30 [00:51<00:29,  2.70s/it]"
          ]
        },
        {
          "name": "stdout",
          "output_type": "stream",
          "text": [
            "\n",
            " Epoch: 19 | Epoch Time: 0m 2s\n",
            "\tTrain Loss: 1.486 \n",
            "\t Val. Loss: 1.558 \n"
          ]
        },
        {
          "name": "stderr",
          "output_type": "stream",
          "text": [
            "\r 67%|██████▋   | 20/30 [00:53<00:27,  2.71s/it]"
          ]
        },
        {
          "name": "stdout",
          "output_type": "stream",
          "text": [
            "\n",
            " Epoch: 20 | Epoch Time: 0m 2s\n",
            "\tTrain Loss: 1.468 \n",
            "\t Val. Loss: 1.552 \n"
          ]
        },
        {
          "name": "stderr",
          "output_type": "stream",
          "text": [
            "\r 70%|███████   | 21/30 [00:56<00:24,  2.70s/it]"
          ]
        },
        {
          "name": "stdout",
          "output_type": "stream",
          "text": [
            "\n",
            " Epoch: 21 | Epoch Time: 0m 2s\n",
            "\tTrain Loss: 1.452 \n",
            "\t Val. Loss: 1.552 \n"
          ]
        },
        {
          "name": "stderr",
          "output_type": "stream",
          "text": [
            "\r 73%|███████▎  | 22/30 [00:59<00:21,  2.71s/it]"
          ]
        },
        {
          "name": "stdout",
          "output_type": "stream",
          "text": [
            "\n",
            " Epoch: 22 | Epoch Time: 0m 2s\n",
            "\tTrain Loss: 1.436 \n",
            "\t Val. Loss: 1.533 \n"
          ]
        },
        {
          "name": "stderr",
          "output_type": "stream",
          "text": [
            "\r 77%|███████▋  | 23/30 [01:01<00:19,  2.72s/it]"
          ]
        },
        {
          "name": "stdout",
          "output_type": "stream",
          "text": [
            "\n",
            " Epoch: 23 | Epoch Time: 0m 2s\n",
            "\tTrain Loss: 1.421 \n",
            "\t Val. Loss: 1.528 \n"
          ]
        },
        {
          "name": "stderr",
          "output_type": "stream",
          "text": [
            "\r 80%|████████  | 24/30 [01:04<00:16,  2.72s/it]"
          ]
        },
        {
          "name": "stdout",
          "output_type": "stream",
          "text": [
            "\n",
            " Epoch: 24 | Epoch Time: 0m 2s\n",
            "\tTrain Loss: 1.400 \n",
            "\t Val. Loss: 1.519 \n"
          ]
        },
        {
          "name": "stderr",
          "output_type": "stream",
          "text": [
            "\r 83%|████████▎ | 25/30 [01:07<00:13,  2.70s/it]"
          ]
        },
        {
          "name": "stdout",
          "output_type": "stream",
          "text": [
            "\n",
            " Epoch: 25 | Epoch Time: 0m 2s\n",
            "\tTrain Loss: 1.386 \n",
            "\t Val. Loss: 1.520 \n"
          ]
        },
        {
          "name": "stderr",
          "output_type": "stream",
          "text": [
            "\r 87%|████████▋ | 26/30 [01:10<00:10,  2.71s/it]"
          ]
        },
        {
          "name": "stdout",
          "output_type": "stream",
          "text": [
            "\n",
            " Epoch: 26 | Epoch Time: 0m 2s\n",
            "\tTrain Loss: 1.365 \n",
            "\t Val. Loss: 1.510 \n"
          ]
        },
        {
          "name": "stderr",
          "output_type": "stream",
          "text": [
            "\r 90%|█████████ | 27/30 [01:12<00:08,  2.71s/it]"
          ]
        },
        {
          "name": "stdout",
          "output_type": "stream",
          "text": [
            "\n",
            " Epoch: 27 | Epoch Time: 0m 2s\n",
            "\tTrain Loss: 1.358 \n",
            "\t Val. Loss: 1.508 \n"
          ]
        },
        {
          "name": "stderr",
          "output_type": "stream",
          "text": [
            "\r 93%|█████████▎| 28/30 [01:15<00:05,  2.72s/it]"
          ]
        },
        {
          "name": "stdout",
          "output_type": "stream",
          "text": [
            "\n",
            " Epoch: 28 | Epoch Time: 0m 2s\n",
            "\tTrain Loss: 1.344 \n",
            "\t Val. Loss: 1.502 \n"
          ]
        },
        {
          "name": "stderr",
          "output_type": "stream",
          "text": [
            "\r 97%|█████████▋| 29/30 [01:18<00:02,  2.73s/it]"
          ]
        },
        {
          "name": "stdout",
          "output_type": "stream",
          "text": [
            "\n",
            " Epoch: 29 | Epoch Time: 0m 2s\n",
            "\tTrain Loss: 1.330 \n",
            "\t Val. Loss: 1.501 \n"
          ]
        },
        {
          "name": "stderr",
          "output_type": "stream",
          "text": [
            "100%|██████████| 30/30 [01:20<00:00,  2.70s/it]"
          ]
        },
        {
          "name": "stdout",
          "output_type": "stream",
          "text": [
            "\n",
            " Epoch: 30 | Epoch Time: 0m 2s\n",
            "\tTrain Loss: 1.319 \n",
            "\t Val. Loss: 1.513 \n"
          ]
        },
        {
          "name": "stderr",
          "output_type": "stream",
          "text": [
            "\n"
          ]
        }
      ],
      "source": [
        "#training model\n",
        "n_seqs, n_steps = 128, 100\n",
        "list_train_loss, list_val_loss = train_gru(model, encoded, n_seqs=n_seqs, n_steps=n_steps)"
      ]
    },
    {
      "cell_type": "code",
      "execution_count": null,
      "metadata": {
        "colab": {
          "base_uri": "https://localhost:8080/",
          "height": 477
        },
        "id": "BJbuhLbA5LrY",
        "outputId": "66389885-2161-4b8f-b09f-2602709b305f"
      },
      "outputs": [
        {
          "data": {
            "image/png": "[encoded data removed]",
            "text/plain": [
              "<Figure size 640x480 with 1 Axes>"
            ]
          },
          "metadata": {},
          "output_type": "display_data"
        }
      ],
      "source": [
        "# plot training & validation loss\n",
        "n_epochs = range(1, epochs+1)\n",
        " \n",
        "# Plot and label the training and validation loss values\n",
        "# Use our custom style\n",
        "plt.style.use('ggplot')\n",
        "plt.plot(n_epochs, list_train_loss, 'g', label='Training Loss')\n",
        "plt.plot(n_epochs, list_val_loss,  'b', label='Validation Loss')\n",
        " \n",
        "# Add in a title and axes labels\n",
        "plt.title('Training and Validation Loss for GRU model')\n",
        "plt.xlabel('Epochs')\n",
        "plt.ylabel('Loss')\n",
        " \n",
        "# Set the tick locations\n",
        "plt.xticks(range(1, epochs+1, 3))\n",
        " \n",
        "# Display the plot\n",
        "plt.legend(loc='best')\n",
        "plt.show()"
      ]
    },
    {
      "cell_type": "markdown",
      "metadata": {
        "id": "DZXUeP9u_Uni"
      },
      "source": [
        "**Comparing to LSTM model, GRU model loss slightly increases: from: 1.479 to 1.513**"
      ]
    },
    {
      "cell_type": "markdown",
      "metadata": {
        "id": "yaGPhU21_tHx"
      },
      "source": [
        "#### Text Generation using GRU"
      ]
    },
    {
      "cell_type": "code",
      "execution_count": null,
      "metadata": {
        "colab": {
          "base_uri": "https://localhost:8080/"
        },
        "id": "mjM1EqAuABZM",
        "outputId": "8b4f4a88-6aaa-4e06-b3fb-e135743d77d5"
      },
      "outputs": [
        {
          "data": {
            "text/plain": [
              "<All keys matched successfully>"
            ]
          },
          "execution_count": 27,
          "metadata": {},
          "output_type": "execute_result"
        }
      ],
      "source": [
        "# load the best checkpoint\n",
        "model.load_state_dict(torch.load('best-GRU-model.pt'))"
      ]
    },
    {
      "cell_type": "code",
      "execution_count": null,
      "metadata": {
        "id": "tjIdNq01_UDT"
      },
      "outputs": [],
      "source": [
        "generate_text = text_generation(model, seq_length=500, input_text='story')"
      ]
    },
    {
      "cell_type": "code",
      "execution_count": null,
      "metadata": {
        "colab": {
          "base_uri": "https://localhost:8080/",
          "height": 72
        },
        "id": "_jo3v1VM_qxm",
        "outputId": "e737fb88-c5e0-4ca2-fc2e-bc023ec15166"
      },
      "outputs": [
        {
          "data": {
            "application/vnd.google.colaboratory.intrinsic+json": {
              "type": "string"
            },
            "text/plain": [
              "'story we that all sister on,but he wished to hear and crossed his word four huntsman. ‘Ah! would be all were aring, and as he should be seen for the tailor. When the well plated that he was to see the boat, and happened, that the father went totheir first. ‘And you were something with me to heapt as have breen the forest the stood, and set over he was asked him word to say, and she were to live and was asked how it, and therower she had saded asked him what the feast asked him for a sold, which saw th'"
            ]
          },
          "execution_count": 29,
          "metadata": {},
          "output_type": "execute_result"
        }
      ],
      "source": [
        "generate_text"
      ]
    },
    {
      "cell_type": "markdown",
      "metadata": {
        "id": "MdTxul4qCOZK"
      },
      "source": [
        "**Comparing with LSTM model, GRU model is less complexity but the text generating result is still quite good.**"
      ]
    },
    {
      "cell_type": "markdown",
      "metadata": {
        "id": "Mc8YlFz3Cs5B"
      },
      "source": [
        "### RNN Model"
      ]
    },
    {
      "cell_type": "code",
      "execution_count": null,
      "metadata": {
        "id": "-GCcQqxx-uQ8"
      },
      "outputs": [],
      "source": [
        "class RNN(nn.Module):\n",
        "    \n",
        "    def __init__(self, tokens, device, n_steps=100, n_hidden=256, n_layers=2, drop_prob=0.3):\n",
        "        super().__init__()\n",
        "        self.drop_prob = drop_prob\n",
        "        self.n_layers = n_layers\n",
        "        self.n_hidden = n_hidden\n",
        "        self.device = device\n",
        "\n",
        "        # creating character dictionaries\n",
        "        self.chars = tokens\n",
        "        self.int2char = dict(enumerate(self.chars))\n",
        "        self.char2int = {ch: ii for ii, ch in self.int2char.items()}\n",
        "        \n",
        "        ## the RNN\n",
        "        self.rnn = nn.RNN(len(self.chars), n_hidden, n_layers, \n",
        "                            dropout=drop_prob, batch_first=True)\n",
        "        \n",
        "        ##  dropout layer\n",
        "        self.dropout = nn.Dropout(drop_prob)\n",
        "        \n",
        "        ## fully-connected output layer\n",
        "        self.fc = nn.Linear(n_hidden, len(self.chars))\n",
        "        \n",
        "        # initialize the weights\n",
        "        self.init_weights()\n",
        "      \n",
        "    \n",
        "    def forward(self, x, hc):\n",
        "        ''' Forward pass through the network. \n",
        "            These inputs are x, and the hidden/cell state `hc`. '''\n",
        "        \n",
        "        ## Get x, and the new hidden state (h, c) from the lstm\n",
        "        x, h = self.rnn(x, hc)\n",
        "        \n",
        "        ## pass x through a droupout layer\n",
        "        x = self.dropout(x)\n",
        "        \n",
        "        # Stack up GRU outputs using view\n",
        "        x = x.reshape(x.size()[0]*x.size()[1], self.n_hidden)\n",
        "        \n",
        "        ## put x through the fully-connected layer\n",
        "        x = self.fc(x)\n",
        "        \n",
        "        # return x and the hidden state h\n",
        "        return x, h\n",
        "    \n",
        "    def predict(self, char, h=None, device=device, top_k=5):\n",
        "      ''' Given a character, predict the next character.\n",
        "      \n",
        "          Returns the predicted character and the hidden state.\n",
        "      '''\n",
        "      \n",
        "      \n",
        "      if h is None:\n",
        "          h = self.init_hidden(1)\n",
        "      \n",
        "      x = np.array([[self.char2int[char]]])\n",
        "      x = one_hot_encode(x, len(self.chars))\n",
        "      inputs = torch.from_numpy(x)\n",
        "      inputs = inputs.to(device)\n",
        "      \n",
        "      h = h.data\n",
        "      h = h.to(device)\n",
        "     \n",
        "      out, h = self.forward(inputs, h)\n",
        "\n",
        "      p = F.softmax(out, dim=1).data\n",
        "      p = p.to(device)\n",
        "      \n",
        "      if top_k is None:\n",
        "          top_ch = np.arange(len(self.chars))\n",
        "      else:\n",
        "          p, top_ch = p.topk(top_k)\n",
        "          top_ch = top_ch.cpu().numpy().squeeze()\n",
        "      \n",
        "      p = p.cpu().numpy().squeeze()\n",
        "      char = np.random.choice(top_ch, p=p/p.sum())\n",
        "          \n",
        "      return self.int2char[char], h\n",
        "    \n",
        "    def init_weights(self):\n",
        "        ''' Initialize weights for fully connected layer '''\n",
        "        initrange = 0.1\n",
        "        \n",
        "        # Set bias tensor to all zeros\n",
        "        self.fc.bias.data.fill_(0)\n",
        "        # FC weights as random uniform\n",
        "        self.fc.weight.data.uniform_(-1, 1)\n",
        "        \n",
        "    def init_hidden(self, n_seqs):\n",
        "        ''' Initializes hidden state '''\n",
        "        # Create two new tensors with sizes n_layers x n_seqs x n_hidden,\n",
        "        # initialized to zero, for hidden state and cell state of LSTM\n",
        "        weight = next(self.parameters()).data\n",
        "        return weight.new(self.n_layers, n_seqs, self.n_hidden).zero_()#, #weight.new(self.n_layers, n_seqs, self.n_hidden).zero_())"
      ]
    },
    {
      "cell_type": "code",
      "execution_count": null,
      "metadata": {
        "colab": {
          "base_uri": "https://localhost:8080/"
        },
        "id": "rpo67syoEA9X",
        "outputId": "8ad3e35a-bf50-4b6f-9971-f20cf20d0a07"
      },
      "outputs": [
        {
          "name": "stdout",
          "output_type": "stream",
          "text": [
            "RNN(\n",
            "  (rnn): RNN(77, 512, num_layers=2, batch_first=True, dropout=0.3)\n",
            "  (dropout): Dropout(p=0.3, inplace=False)\n",
            "  (fc): Linear(in_features=512, out_features=77, bias=True)\n",
            ")\n"
          ]
        }
      ],
      "source": [
        "# define and print the model\n",
        "model = RNN(chars, device, n_hidden=512, n_layers=2)\n",
        "model = model.to(device)\n",
        "print(model)"
      ]
    },
    {
      "cell_type": "code",
      "execution_count": null,
      "metadata": {
        "id": "SHMqq4dOFKZk"
      },
      "outputs": [],
      "source": [
        "def train_rnn(model, data, epochs=epochs, n_seqs=10, n_steps=50, opt=optimizer, criterion=criterion, device=device):\n",
        "    ''' \n",
        "    Training a text generation network \n",
        "    '''\n",
        "    list_train_loss = []\n",
        "    list_val_loss = []\n",
        "    model.train()\n",
        "    \n",
        "    # create training and validation data\n",
        "    val_frac = 0.1 # ratio train/val\n",
        "    print_every = 50 #logging each n steps\n",
        "    clip = 5 # gradient clipping\n",
        "    best_valid_loss = float('inf') # best valid loss\n",
        "    val_idx = int(len(data)*(1-val_frac))\n",
        "    data, val_data = data[:val_idx], data[val_idx:]\n",
        "    \n",
        "    model.to(device)\n",
        "    \n",
        "    n_chars = len(model.chars)\n",
        "    for e in tqdm(range(epochs)):\n",
        "        start_time = time.monotonic()\n",
        "        h = model.init_hidden(n_seqs)\n",
        "      \n",
        "        for x, y in get_batches(data, n_seqs, n_steps):\n",
        "        \n",
        "            # One-hot encode our data and make them Torch tensors\n",
        "            x = one_hot_encode(x, n_chars)\n",
        "            inputs, targets = torch.from_numpy(x), torch.from_numpy(y)\n",
        "            \n",
        "            inputs, targets = inputs.to(device), targets.to(device)\n",
        "\n",
        "            # Creating new variables for the hidden state, otherwise\n",
        "            # we'd backprop through the entire training history\n",
        "            h = h.data\n",
        "\n",
        "            model.zero_grad()\n",
        "            \n",
        "            output, h = model.forward(inputs, h)\n",
        "            loss = criterion(output, targets.view(n_seqs*n_steps))\n",
        "\n",
        "            loss.backward()\n",
        "            \n",
        "            # clip_grad_norm` helps prevent the exploding gradient problem in RNNs / LSTMs.\n",
        "            nn.utils.clip_grad_norm_(model.parameters(), clip)\n",
        "\n",
        "            opt.step()\n",
        "              \n",
        "        # validation\n",
        "        val_h = model.init_hidden(n_seqs)\n",
        "        val_losses = []\n",
        "        for x, y in get_batches(val_data, n_seqs, n_steps):\n",
        "            # One-hot encode our data and make them Torch tensors\n",
        "            x = one_hot_encode(x, n_chars)\n",
        "            x, y = torch.from_numpy(x), torch.from_numpy(y)\n",
        "            \n",
        "            # Creating new variables for the hidden state, otherwise\n",
        "            # we'd backprop through the entire training history\n",
        "            # val_h = tuple([each.data for each in val_h])\n",
        "            val_h = val_h.data\n",
        "            \n",
        "            inputs, targets = x, y\n",
        "            inputs, targets = inputs.to(device), targets.to(device)\n",
        "\n",
        "            output, val_h = model.forward(inputs, val_h)\n",
        "            val_loss = criterion(output, targets.view(n_seqs*n_steps))\n",
        "        # save training and validation loss\n",
        "        val_losses.append(val_loss.item())\n",
        "        list_train_loss.append(loss.item())\n",
        "        list_val_loss.append(np.mean(val_losses))\n",
        "        #save best model\n",
        "        if np.mean(val_losses) < best_valid_loss:\n",
        "            best_valid_loss = np.mean(val_losses)\n",
        "            torch.save(model.state_dict(), 'best-RNN-model.pt')\n",
        "        end_time = time.monotonic()\n",
        "\n",
        "        epoch_mins, epoch_secs = epoch_time(start_time, end_time)\n",
        "\n",
        "        print(f'\\n Epoch: {e+1:02} | Epoch Time: {epoch_mins}m {epoch_secs}s')\n",
        "        print(f'\\tTrain Loss: {loss.item():.3f} ')\n",
        "        print(f'\\t Val. Loss: {np.mean(val_losses):.3f} ')\n",
        "    return list_train_loss, list_val_loss"
      ]
    },
    {
      "cell_type": "code",
      "execution_count": null,
      "metadata": {
        "id": "teBNNReyEGOD"
      },
      "outputs": [],
      "source": [
        "#optimizer\n",
        "optimizer = torch.optim.Adam(model.parameters(), lr=LEANRING_RATE)\n",
        "#loss function\n",
        "criterion = nn.CrossEntropyLoss()"
      ]
    },
    {
      "cell_type": "code",
      "execution_count": null,
      "metadata": {
        "colab": {
          "base_uri": "https://localhost:8080/"
        },
        "id": "s0GX9eDTEOU8",
        "outputId": "60004633-090d-4432-f0dd-90d519c7ed84"
      },
      "outputs": [
        {
          "name": "stderr",
          "output_type": "stream",
          "text": [
            "  3%|▎         | 1/30 [00:01<00:30,  1.07s/it]"
          ]
        },
        {
          "name": "stdout",
          "output_type": "stream",
          "text": [
            "\n",
            " Epoch: 01 | Epoch Time: 0m 1s\n",
            "\tTrain Loss: 2.233 \n",
            "\t Val. Loss: 2.188 \n"
          ]
        },
        {
          "name": "stderr",
          "output_type": "stream",
          "text": [
            "\r  7%|▋         | 2/30 [00:02<00:29,  1.07s/it]"
          ]
        },
        {
          "name": "stdout",
          "output_type": "stream",
          "text": [
            "\n",
            " Epoch: 02 | Epoch Time: 0m 1s\n",
            "\tTrain Loss: 2.158 \n",
            "\t Val. Loss: 2.105 \n"
          ]
        },
        {
          "name": "stderr",
          "output_type": "stream",
          "text": [
            "\r 10%|█         | 3/30 [00:03<00:28,  1.07s/it]"
          ]
        },
        {
          "name": "stdout",
          "output_type": "stream",
          "text": [
            "\n",
            " Epoch: 03 | Epoch Time: 0m 1s\n",
            "\tTrain Loss: 2.133 \n",
            "\t Val. Loss: 2.088 \n"
          ]
        },
        {
          "name": "stderr",
          "output_type": "stream",
          "text": [
            "\r 13%|█▎        | 4/30 [00:04<00:27,  1.08s/it]"
          ]
        },
        {
          "name": "stdout",
          "output_type": "stream",
          "text": [
            "\n",
            " Epoch: 04 | Epoch Time: 0m 1s\n",
            "\tTrain Loss: 2.112 \n",
            "\t Val. Loss: 2.072 \n"
          ]
        },
        {
          "name": "stderr",
          "output_type": "stream",
          "text": [
            "\r 17%|█▋        | 5/30 [00:05<00:27,  1.08s/it]"
          ]
        },
        {
          "name": "stdout",
          "output_type": "stream",
          "text": [
            "\n",
            " Epoch: 05 | Epoch Time: 0m 1s\n",
            "\tTrain Loss: 2.110 \n",
            "\t Val. Loss: 2.058 \n"
          ]
        },
        {
          "name": "stderr",
          "output_type": "stream",
          "text": [
            "\r 20%|██        | 6/30 [00:06<00:25,  1.08s/it]"
          ]
        },
        {
          "name": "stdout",
          "output_type": "stream",
          "text": [
            "\n",
            " Epoch: 06 | Epoch Time: 0m 1s\n",
            "\tTrain Loss: 2.093 \n",
            "\t Val. Loss: 2.063 \n"
          ]
        },
        {
          "name": "stderr",
          "output_type": "stream",
          "text": [
            "\r 23%|██▎       | 7/30 [00:07<00:24,  1.08s/it]"
          ]
        },
        {
          "name": "stdout",
          "output_type": "stream",
          "text": [
            "\n",
            " Epoch: 07 | Epoch Time: 0m 1s\n",
            "\tTrain Loss: 2.082 \n",
            "\t Val. Loss: 2.048 \n"
          ]
        },
        {
          "name": "stderr",
          "output_type": "stream",
          "text": [
            "\r 27%|██▋       | 8/30 [00:08<00:23,  1.08s/it]"
          ]
        },
        {
          "name": "stdout",
          "output_type": "stream",
          "text": [
            "\n",
            " Epoch: 08 | Epoch Time: 0m 1s\n",
            "\tTrain Loss: 2.076 \n",
            "\t Val. Loss: 2.046 \n"
          ]
        },
        {
          "name": "stderr",
          "output_type": "stream",
          "text": [
            "\r 30%|███       | 9/30 [00:09<00:22,  1.08s/it]"
          ]
        },
        {
          "name": "stdout",
          "output_type": "stream",
          "text": [
            "\n",
            " Epoch: 09 | Epoch Time: 0m 1s\n",
            "\tTrain Loss: 2.082 \n",
            "\t Val. Loss: 2.046 \n"
          ]
        },
        {
          "name": "stderr",
          "output_type": "stream",
          "text": [
            "\r 33%|███▎      | 10/30 [00:10<00:21,  1.08s/it]"
          ]
        },
        {
          "name": "stdout",
          "output_type": "stream",
          "text": [
            "\n",
            " Epoch: 10 | Epoch Time: 0m 1s\n",
            "\tTrain Loss: 2.070 \n",
            "\t Val. Loss: 2.036 \n"
          ]
        },
        {
          "name": "stderr",
          "output_type": "stream",
          "text": [
            "\r 37%|███▋      | 11/30 [00:11<00:20,  1.07s/it]"
          ]
        },
        {
          "name": "stdout",
          "output_type": "stream",
          "text": [
            "\n",
            " Epoch: 11 | Epoch Time: 0m 1s\n",
            "\tTrain Loss: 2.072 \n",
            "\t Val. Loss: 2.045 \n"
          ]
        },
        {
          "name": "stderr",
          "output_type": "stream",
          "text": [
            "\r 40%|████      | 12/30 [00:12<00:19,  1.07s/it]"
          ]
        },
        {
          "name": "stdout",
          "output_type": "stream",
          "text": [
            "\n",
            " Epoch: 12 | Epoch Time: 0m 1s\n",
            "\tTrain Loss: 2.070 \n",
            "\t Val. Loss: 2.030 \n"
          ]
        },
        {
          "name": "stderr",
          "output_type": "stream",
          "text": [
            "\r 43%|████▎     | 13/30 [00:13<00:18,  1.06s/it]"
          ]
        },
        {
          "name": "stdout",
          "output_type": "stream",
          "text": [
            "\n",
            " Epoch: 13 | Epoch Time: 0m 1s\n",
            "\tTrain Loss: 2.070 \n",
            "\t Val. Loss: 2.035 \n"
          ]
        },
        {
          "name": "stderr",
          "output_type": "stream",
          "text": [
            "\r 47%|████▋     | 14/30 [00:15<00:16,  1.06s/it]"
          ]
        },
        {
          "name": "stdout",
          "output_type": "stream",
          "text": [
            "\n",
            " Epoch: 14 | Epoch Time: 0m 1s\n",
            "\tTrain Loss: 2.063 \n",
            "\t Val. Loss: 2.037 \n"
          ]
        },
        {
          "name": "stderr",
          "output_type": "stream",
          "text": [
            "\r 50%|█████     | 15/30 [00:16<00:15,  1.06s/it]"
          ]
        },
        {
          "name": "stdout",
          "output_type": "stream",
          "text": [
            "\n",
            " Epoch: 15 | Epoch Time: 0m 1s\n",
            "\tTrain Loss: 2.066 \n",
            "\t Val. Loss: 2.032 \n"
          ]
        },
        {
          "name": "stderr",
          "output_type": "stream",
          "text": [
            "\r 53%|█████▎    | 16/30 [00:17<00:14,  1.06s/it]"
          ]
        },
        {
          "name": "stdout",
          "output_type": "stream",
          "text": [
            "\n",
            " Epoch: 16 | Epoch Time: 0m 1s\n",
            "\tTrain Loss: 2.063 \n",
            "\t Val. Loss: 2.032 \n"
          ]
        },
        {
          "name": "stderr",
          "output_type": "stream",
          "text": [
            "\r 57%|█████▋    | 17/30 [00:18<00:13,  1.07s/it]"
          ]
        },
        {
          "name": "stdout",
          "output_type": "stream",
          "text": [
            "\n",
            " Epoch: 17 | Epoch Time: 0m 1s\n",
            "\tTrain Loss: 2.062 \n",
            "\t Val. Loss: 2.025 \n"
          ]
        },
        {
          "name": "stderr",
          "output_type": "stream",
          "text": [
            "\r 60%|██████    | 18/30 [00:19<00:12,  1.07s/it]"
          ]
        },
        {
          "name": "stdout",
          "output_type": "stream",
          "text": [
            "\n",
            " Epoch: 18 | Epoch Time: 0m 1s\n",
            "\tTrain Loss: 2.056 \n",
            "\t Val. Loss: 2.031 \n"
          ]
        },
        {
          "name": "stderr",
          "output_type": "stream",
          "text": [
            "\r 63%|██████▎   | 19/30 [00:20<00:11,  1.07s/it]"
          ]
        },
        {
          "name": "stdout",
          "output_type": "stream",
          "text": [
            "\n",
            " Epoch: 19 | Epoch Time: 0m 1s\n",
            "\tTrain Loss: 2.056 \n",
            "\t Val. Loss: 2.030 \n"
          ]
        },
        {
          "name": "stderr",
          "output_type": "stream",
          "text": [
            "\r 67%|██████▋   | 20/30 [00:21<00:10,  1.07s/it]"
          ]
        },
        {
          "name": "stdout",
          "output_type": "stream",
          "text": [
            "\n",
            " Epoch: 20 | Epoch Time: 0m 1s\n",
            "\tTrain Loss: 2.055 \n",
            "\t Val. Loss: 2.025 \n"
          ]
        },
        {
          "name": "stderr",
          "output_type": "stream",
          "text": [
            "\r 70%|███████   | 21/30 [00:22<00:09,  1.07s/it]"
          ]
        },
        {
          "name": "stdout",
          "output_type": "stream",
          "text": [
            "\n",
            " Epoch: 21 | Epoch Time: 0m 1s\n",
            "\tTrain Loss: 2.049 \n",
            "\t Val. Loss: 2.020 \n"
          ]
        },
        {
          "name": "stderr",
          "output_type": "stream",
          "text": [
            "\r 73%|███████▎  | 22/30 [00:23<00:08,  1.07s/it]"
          ]
        },
        {
          "name": "stdout",
          "output_type": "stream",
          "text": [
            "\n",
            " Epoch: 22 | Epoch Time: 0m 1s\n",
            "\tTrain Loss: 2.048 \n",
            "\t Val. Loss: 2.020 \n"
          ]
        },
        {
          "name": "stderr",
          "output_type": "stream",
          "text": [
            "\r 77%|███████▋  | 23/30 [00:24<00:07,  1.07s/it]"
          ]
        },
        {
          "name": "stdout",
          "output_type": "stream",
          "text": [
            "\n",
            " Epoch: 23 | Epoch Time: 0m 1s\n",
            "\tTrain Loss: 2.046 \n",
            "\t Val. Loss: 2.032 \n"
          ]
        },
        {
          "name": "stderr",
          "output_type": "stream",
          "text": [
            "\r 80%|████████  | 24/30 [00:25<00:06,  1.06s/it]"
          ]
        },
        {
          "name": "stdout",
          "output_type": "stream",
          "text": [
            "\n",
            " Epoch: 24 | Epoch Time: 0m 1s\n",
            "\tTrain Loss: 2.041 \n",
            "\t Val. Loss: 2.024 \n"
          ]
        },
        {
          "name": "stderr",
          "output_type": "stream",
          "text": [
            "\r 83%|████████▎ | 25/30 [00:26<00:05,  1.06s/it]"
          ]
        },
        {
          "name": "stdout",
          "output_type": "stream",
          "text": [
            "\n",
            " Epoch: 25 | Epoch Time: 0m 1s\n",
            "\tTrain Loss: 2.049 \n",
            "\t Val. Loss: 2.026 \n"
          ]
        },
        {
          "name": "stderr",
          "output_type": "stream",
          "text": [
            "\r 87%|████████▋ | 26/30 [00:27<00:04,  1.07s/it]"
          ]
        },
        {
          "name": "stdout",
          "output_type": "stream",
          "text": [
            "\n",
            " Epoch: 26 | Epoch Time: 0m 1s\n",
            "\tTrain Loss: 2.049 \n",
            "\t Val. Loss: 2.019 \n"
          ]
        },
        {
          "name": "stderr",
          "output_type": "stream",
          "text": [
            "\r 90%|█████████ | 27/30 [00:28<00:03,  1.08s/it]"
          ]
        },
        {
          "name": "stdout",
          "output_type": "stream",
          "text": [
            "\n",
            " Epoch: 27 | Epoch Time: 0m 1s\n",
            "\tTrain Loss: 2.046 \n",
            "\t Val. Loss: 2.018 \n"
          ]
        },
        {
          "name": "stderr",
          "output_type": "stream",
          "text": [
            "\r 93%|█████████▎| 28/30 [00:29<00:02,  1.07s/it]"
          ]
        },
        {
          "name": "stdout",
          "output_type": "stream",
          "text": [
            "\n",
            " Epoch: 28 | Epoch Time: 0m 1s\n",
            "\tTrain Loss: 2.044 \n",
            "\t Val. Loss: 2.023 \n"
          ]
        },
        {
          "name": "stderr",
          "output_type": "stream",
          "text": [
            "\r 97%|█████████▋| 29/30 [00:31<00:01,  1.07s/it]"
          ]
        },
        {
          "name": "stdout",
          "output_type": "stream",
          "text": [
            "\n",
            " Epoch: 29 | Epoch Time: 0m 1s\n",
            "\tTrain Loss: 2.044 \n",
            "\t Val. Loss: 2.018 \n"
          ]
        },
        {
          "name": "stderr",
          "output_type": "stream",
          "text": [
            "100%|██████████| 30/30 [00:32<00:00,  1.07s/it]"
          ]
        },
        {
          "name": "stdout",
          "output_type": "stream",
          "text": [
            "\n",
            " Epoch: 30 | Epoch Time: 0m 1s\n",
            "\tTrain Loss: 2.040 \n",
            "\t Val. Loss: 2.015 \n"
          ]
        },
        {
          "name": "stderr",
          "output_type": "stream",
          "text": [
            "\n"
          ]
        }
      ],
      "source": [
        "#input and ouput RNN and GRU is same, so we can utilize training function from GRU\n",
        "n_seqs, n_steps = 128, 100\n",
        "list_train_loss, list_val_loss = train_rnn(model, encoded, opt=optimizer, criterion=criterion, n_seqs=n_seqs, n_steps=n_steps)"
      ]
    },
    {
      "cell_type": "code",
      "execution_count": null,
      "metadata": {
        "colab": {
          "base_uri": "https://localhost:8080/",
          "height": 477
        },
        "id": "sl2zf3ttEed5",
        "outputId": "ffed40de-eebc-41b7-d230-c149aa8e46b9"
      },
      "outputs": [
        {
          "data": {
            "image/png": "[encoded data removed]",
            "text/plain": [
              "<Figure size 640x480 with 1 Axes>"
            ]
          },
          "metadata": {},
          "output_type": "display_data"
        }
      ],
      "source": [
        "# plot training & validation loss\n",
        "n_epochs = range(1, epochs+1)\n",
        " \n",
        "# Plot and label the training and validation loss values\n",
        "# Use our custom style\n",
        "plt.style.use('ggplot')\n",
        "plt.plot(n_epochs, list_train_loss, 'g', label='Training Loss')\n",
        "plt.plot(n_epochs, list_val_loss,  'b', label='Validation Loss')\n",
        " \n",
        "# Add in a title and axes labels\n",
        "plt.title('Training and Validation Loss for RNN model')\n",
        "plt.xlabel('Epochs')\n",
        "plt.ylabel('Loss')\n",
        " \n",
        "# Set the tick locations\n",
        "plt.xticks(range(1, epochs+1, 3))\n",
        " \n",
        "# Display the plot\n",
        "plt.legend(loc='best')\n",
        "plt.show()"
      ]
    },
    {
      "cell_type": "markdown",
      "metadata": {
        "id": "vZZoe10wFhNS"
      },
      "source": [
        "**Comparing to LSTM model val loss (1.479) , GRU model val loss (1.513), RNN model val loss (2.015) is not good as 2 above models, it prove that RNN model is easy to be gradient vanishing.**"
      ]
    },
    {
      "cell_type": "markdown",
      "metadata": {
        "id": "IcuNH057GCIY"
      },
      "source": [
        "#### Text Generation using RNN"
      ]
    },
    {
      "cell_type": "code",
      "execution_count": null,
      "metadata": {
        "colab": {
          "base_uri": "https://localhost:8080/"
        },
        "id": "E2cRSvzdE-xN",
        "outputId": "3933f885-5400-4f09-f453-52d826221541"
      },
      "outputs": [
        {
          "data": {
            "text/plain": [
              "<All keys matched successfully>"
            ]
          },
          "execution_count": 36,
          "metadata": {},
          "output_type": "execute_result"
        }
      ],
      "source": [
        "# load the best checkpoint\n",
        "model.load_state_dict(torch.load('best-RNN-model.pt'))"
      ]
    },
    {
      "cell_type": "code",
      "execution_count": null,
      "metadata": {
        "id": "xBV45T8iGSaF"
      },
      "outputs": [],
      "source": [
        "generate_text = text_generation(model, seq_length=500, input_text='story')"
      ]
    },
    {
      "cell_type": "code",
      "execution_count": null,
      "metadata": {
        "colab": {
          "base_uri": "https://localhost:8080/",
          "height": 72
        },
        "id": "HTH2lPrmGV-c",
        "outputId": "3321d0b2-6d39-4134-ba56-34b40913761d"
      },
      "outputs": [
        {
          "data": {
            "application/vnd.google.colaboratory.intrinsic+json": {
              "type": "string"
            },
            "text/plain": [
              "'story,’ se wal ane, what aid ther wof to maite and st one the washe tho gove mee shim, and tisht whathe toree tase, and at her hare, and harde hin timen to soo die, ‘Whar have aid one anoul to ther, ald tain so fors wis, he wile hares, and we tha gha butt he he are th there tore the bat hit watlit, hed her was se cound to kn the wirle th ter boo merang, an thous tere anding ono he anger, and harde the tall gat taind she said, ard wer welle, as wat then inther, and her the ser and har tore the so fan t'"
            ]
          },
          "execution_count": 38,
          "metadata": {},
          "output_type": "execute_result"
        }
      ],
      "source": [
        "generate_text"
      ]
    },
    {
      "cell_type": "markdown",
      "metadata": {
        "id": "GRKQv5aaGfr_"
      },
      "source": [
        "###Conclusion"
      ]
    },
    {
      "cell_type": "markdown",
      "metadata": {
        "id": "DAuTSo2fGjWp"
      },
      "source": [
        "**LSTM Text Generating results:**"
      ]
    },
    {
      "cell_type": "markdown",
      "metadata": {
        "id": "WPTXEhvwG0cR"
      },
      "source": [
        "story winders; and as they were all sones towards to get out together for a bird singing, and was so to she had as tookingdown his wife; andhas she said tohimself, ‘If I can that was back to mark as have to stands.’ Then he went and looked another husband, but had brought in the child of the bride and croess. They said the peasants were all that he wished how it aspones that they could so, then he will go hometo her wood. Then the father had sicked a little sprong, help takeread any still the were to "
      ]
    },
    {
      "cell_type": "markdown",
      "metadata": {
        "id": "9ZTMBdFCG3E5"
      },
      "source": [
        "**GRU Text Generating results:**"
      ]
    },
    {
      "cell_type": "markdown",
      "metadata": {
        "id": "UM9qs3yHHEv4"
      },
      "source": [
        "story we that all sister on,but he wished to hear and crossed his word four huntsman. ‘Ah! would be all were aring, and as he should be seen for the tailor. When the well plated that he was to see the boat, and happened, that the father went totheir first. ‘And you were something with me to heapt as have breen the forest the stood, and set over he was asked him word to say, and she were to live and was asked how it, and therower she had saded asked him what the feast asked him for a sold, which saw th"
      ]
    },
    {
      "cell_type": "markdown",
      "metadata": {
        "id": "K0-3EJrSHGow"
      },
      "source": [
        "**RNN Text Generating results:**"
      ]
    },
    {
      "cell_type": "markdown",
      "metadata": {
        "id": "PVIebNjwHMXw"
      },
      "source": [
        "story,’ se wal ane, what aid ther wof to maite and st one the washe tho gove mee shim, and tisht whathe toree tase, and at her hare, and harde hin timen to soo die, ‘Whar have aid one anoul to ther, ald tain so fors wis, he wile hares, and we tha gha butt he he are th there tore the bat hit watlit, hed her was se cound to kn the wirle th ter boo merang, an thous tere anding ono he anger, and harde the tall gat taind she said, ard wer welle, as wat then inther, and her the ser and har tore the so fan t"
      ]
    },
    {
      "cell_type": "markdown",
      "metadata": {
        "id": "htW3gOD4HTEA"
      },
      "source": [
        "**Conclusion**:  \n",
        "\n",
        "1.   **After training LSTM, GRU and RNN for task text generation: RNN model result is not good as LSTM or GRU since RNN model faces vanishing gradient.**\n",
        "2.   **GRU & LSTM achieved good results both for validation loss and text generating result.**\n",
        "\n",
        "."
      ]
    },
    {
      "cell_type": "markdown",
      "metadata": {
        "id": "8RyEKIOyIQ2h"
      },
      "source": [
        "###Future Imporvement"
      ]
    },
    {
      "cell_type": "markdown",
      "metadata": {
        "id": "1ZOugmcaIkZ4"
      },
      "source": [
        "\n",
        "\n",
        "1.   Text generation using Transfomer: a SOTA architecture for many domains such as NLP, Vision, Audio.\n",
        "2.   Word-level approach\n",
        "3.   Apply SOTA text generation pretrained model such as GPT-3.5 or BERT-family models\n",
        "\n"
      ]
    },
    {
      "cell_type": "code",
      "execution_count": null,
      "metadata": {
        "id": "l4ULXHHaGlYm"
      },
      "outputs": [],
      "source": []
    }
  ],
  "metadata": {
    "accelerator": "GPU",
    "colab": {
      "include_colab_link": true,
      "provenance": []
    },
    "gpuClass": "standard",
    "kernelspec": {
      "display_name": "Python 3",
      "name": "python3"
    },
    "language_info": {
      "name": "python"
    }
  },
  "nbformat": 4,
  "nbformat_minor": 0
}
