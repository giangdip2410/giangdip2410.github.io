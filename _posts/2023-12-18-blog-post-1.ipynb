{
  "cells": [
    {
      "cell_type": "markdown",
      "metadata": {
        "colab_type": "text",
        "id": "view-in-github"
      },
      "source": [
        "<a href=\"https://colab.research.google.com/github/giangdip2410/Research-Stuff/blob/main/CPSC5440_Assigment1_JGM667.ipynb\" target=\"_parent\"><img src=\"https://colab.research.google.com/assets/colab-badge.svg\" alt=\"Open In Colab\"/></a>"
      ]
    },
    {
      "cell_type": "markdown",
      "metadata": {
        "id": "kOwpKaHbqRdJ"
      },
      "source": [
        "## Introduction to Sklearn"
      ]
    },
    {
      "cell_type": "markdown",
      "metadata": {
        "id": "u4doFX4bqRdO"
      },
      "source": [
        "### 1.  Making of a proper dataset with 3 languages"
      ]
    },
    {
      "cell_type": "code",
      "execution_count": null,
      "metadata": {
        "colab": {
          "base_uri": "https://localhost:8080/"
        },
        "id": "AQxTcdL2qdHh",
        "outputId": "7b4a5448-bec6-4d30-a08b-8f68fe562094"
      },
      "outputs": [
        {
          "name": "stdout",
          "output_type": "stream",
          "text": [
            "Mounted at /content/drive\n"
          ]
        }
      ],
      "source": [
        "# mount notebook to drive\n",
        "from google.colab import drive\n",
        "drive.mount('/content/drive', force_remount=True)"
      ]
    },
    {
      "cell_type": "code",
      "execution_count": null,
      "metadata": {
        "id": "1kN6FiAOrMSr"
      },
      "outputs": [],
      "source": [
        "# change dir to data folder\n",
        "# data link: English - https://drive.google.com/file/d/1-_Bb3PavAML6HqoUJkpyg-zOb1bYZgWe/view?usp=sharing\n",
        "# German - https://drive.google.com/file/d/1-KljKd9thoKEKdNnf6zZKDvmff8_NKUi/view?usp=sharing\n",
        "# Vietnamese - https://drive.google.com/file/d/1-7A26XYVi1sbr3tmvlEqnH8SKuzMYMfM/view?usp=sharing\n",
        "import os\n",
        "os.chdir(\"drive/MyDrive/UTC/Intro_ML_Project/Assignment1/\")"
      ]
    },
    {
      "cell_type": "code",
      "execution_count": null,
      "metadata": {
        "id": "BEkarXsVqRdO"
      },
      "outputs": [],
      "source": [
        "#require libray\n",
        "import pandas as pd \n",
        "import numpy as np\n",
        "import sklearn \n",
        "from sklearn.model_selection import train_test_split\n",
        "from sklearn.neighbors import KNeighborsClassifier\n",
        "from sklearn import svm\n",
        "from sklearn.neural_network import MLPClassifier\n",
        "from sklearn.metrics import accuracy_score, classification_report\n",
        "import matplotlib.pyplot as plt\n",
        "import seaborn as sns \n",
        "import plotly.express as px\n",
        "import plotly.graph_objects as go\n",
        "import warnings\n",
        "warnings.filterwarnings('ignore')"
      ]
    },
    {
      "cell_type": "code",
      "execution_count": null,
      "metadata": {
        "id": "e3X7RNC_qRdQ"
      },
      "outputs": [],
      "source": [
        "#function to create data\n",
        "\n",
        "def generate_data(filename, k_letter=5):\n",
        "    #read files\n",
        "    if filename != 'german.txt':\n",
        "        f = open(filename)\n",
        "        list_words = f.readlines()\n",
        "    else:\n",
        "        df_w = pd.read_csv(filename, encoding=\"ISO-8859-1\", header=None)\n",
        "        df_w = df_w.dropna()\n",
        "        list_words = df_w.iloc[:,0].values\n",
        "    #collect feature and label\n",
        "    feature_dataset = []\n",
        "    target_dataset = []\n",
        "    for word in list_words:\n",
        "        # Clean the line by removing the new-line character\n",
        "        if filename != 'german.txt':\n",
        "            cleaned_word = word.replace('\\n', '')\n",
        "        else:\n",
        "            cleaned_word = word\n",
        "        # Check if the length of the cleaned word is equal to 5, to get words with 5 characters.\n",
        "        if len(cleaned_word) == k_letter:\n",
        "            # Make an array for converting word to ord representation\n",
        "            word_to_ord = []\n",
        "            \n",
        "            # Iterate through the cleaned word characters, ord the character, and append it to the word_to_ord list.\n",
        "            for char in cleaned_word:\n",
        "                word_to_ord.append(ord(char))\n",
        "                \n",
        "            # Append the ord'ed word to the training dataset\n",
        "            feature_dataset.append(word_to_ord)\n",
        "            \n",
        "            # Append the correct answer to the target dataset\n",
        "            if filename == \"english.txt\":\n",
        "                target_dataset.append(0)\n",
        "            elif filename == \"german.txt\":\n",
        "                target_dataset.append(1)\n",
        "            else:\n",
        "                target_dataset.append(2)\n",
        "    return np.array(feature_dataset), np.array(target_dataset)"
      ]
    },
    {
      "cell_type": "code",
      "execution_count": null,
      "metadata": {
        "id": "lGUNFFRQqRdR"
      },
      "outputs": [],
      "source": [
        "# #generate english data\n",
        "en_feat, en_target = generate_data(\"english.txt\", k_letter=5)\n",
        "#generate german data\n",
        "gm_feat, gm_target = generate_data(\"german.txt\", k_letter=5)\n",
        "# #generate vietnamese data\n",
        "vn_feat, vn_target = generate_data(\"vietnamese.txt\", k_letter=5)\n",
        "#combine as one data\n",
        "all_feat = np.concatenate([en_feat, gm_feat,vn_feat], axis=0)\n",
        "all_target = np.concatenate([en_target, gm_target,vn_target], axis=0)"
      ]
    },
    {
      "cell_type": "code",
      "execution_count": null,
      "metadata": {
        "colab": {
          "base_uri": "https://localhost:8080/"
        },
        "id": "cCUE8ZWDqRdR",
        "outputId": "bbe867f8-1f8d-44cd-9184-54d6f37ffedf"
      },
      "outputs": [
        {
          "name": "stdout",
          "output_type": "stream",
          "text": [
            "(11435, 5) (3234, 5) (3025, 5) (17694, 5)\n",
            "(11435,) (3234,) (3025,) (17694,)\n"
          ]
        }
      ],
      "source": [
        "#check shape of dataset \n",
        "print(en_feat.shape, gm_feat.shape, vn_feat.shape, all_feat.shape)\n",
        "print(en_target.shape, gm_target.shape, vn_target.shape, all_target.shape)"
      ]
    },
    {
      "cell_type": "markdown",
      "metadata": {
        "id": "p5CJL2cKqRdS"
      },
      "source": [
        "### 2.Making a training and testing dataset split."
      ]
    },
    {
      "cell_type": "code",
      "execution_count": null,
      "metadata": {
        "id": "MbWgkoRLqRdT"
      },
      "outputs": [],
      "source": [
        "#split train test\n",
        "X_train, X_test, y_train, y_test = train_test_split(all_feat, all_target, test_size=0.2, random_state=42, shuffle=True, stratify=all_target)"
      ]
    },
    {
      "cell_type": "code",
      "execution_count": null,
      "metadata": {
        "colab": {
          "base_uri": "https://localhost:8080/"
        },
        "id": "LL4R2uKVqRdT",
        "outputId": "e8ba5703-a66c-414b-8e79-d6833c9e8e3c"
      },
      "outputs": [
        {
          "name": "stdout",
          "output_type": "stream",
          "text": [
            "(14155, 5) (14155,) (3539, 5) (3539,)\n"
          ]
        }
      ],
      "source": [
        "#check shape data after split\n",
        "print(X_train.shape, y_train.shape, X_test.shape, y_test.shape)"
      ]
    },
    {
      "cell_type": "markdown",
      "metadata": {
        "id": "94uYOF_VqRdT"
      },
      "source": [
        "### 3. Being able to train the models and make predictions."
      ]
    },
    {
      "cell_type": "code",
      "execution_count": null,
      "metadata": {
        "colab": {
          "base_uri": "https://localhost:8080/"
        },
        "id": "CNxJMNyHqRdU",
        "outputId": "4aa928a7-69d5-4445-c94a-824d2f547c3f"
      },
      "outputs": [
        {
          "name": "stdout",
          "output_type": "stream",
          "text": [
            "Accuracy of KNN on test data:  89.7\n",
            "              precision    recall  f1-score   support\n",
            "\n",
            "           0       0.88      0.98      0.93      2287\n",
            "           1       0.88      0.59      0.70       647\n",
            "           2       0.98      0.91      0.94       605\n",
            "\n",
            "    accuracy                           0.90      3539\n",
            "   macro avg       0.91      0.83      0.86      3539\n",
            "weighted avg       0.90      0.90      0.89      3539\n",
            "\n"
          ]
        }
      ],
      "source": [
        "#KNN model\n",
        "knn = KNeighborsClassifier(n_neighbors=4, metric='euclidean') #chose 3 of neighbors, euclidean metrix \n",
        "#training model\n",
        "knn.fit(X_train, y_train)\n",
        "#predict for test data\n",
        "y_pred_knn = knn.predict(X_test)\n",
        "#print accuracy on test_data\n",
        "knn_acc = round(accuracy_score(y_test, y_pred_knn) * 100,1) \n",
        "print(\"Accuracy of KNN on test data: \", knn_acc)\n",
        "#summary classification report\n",
        "print(classification_report(y_test, y_pred_knn))"
      ]
    },
    {
      "cell_type": "code",
      "execution_count": null,
      "metadata": {
        "colab": {
          "base_uri": "https://localhost:8080/"
        },
        "id": "zShWxbvQqRdU",
        "outputId": "13cf8f69-c3c7-4bbd-fb5e-e615ff5dfec3"
      },
      "outputs": [
        {
          "name": "stdout",
          "output_type": "stream",
          "text": [
            "Accuracy of SVM on test data:  79.5\n",
            "              precision    recall  f1-score   support\n",
            "\n",
            "           0       0.77      1.00      0.87      2287\n",
            "           1       0.76      0.13      0.22       647\n",
            "           2       0.99      0.74      0.85       605\n",
            "\n",
            "    accuracy                           0.80      3539\n",
            "   macro avg       0.84      0.62      0.64      3539\n",
            "weighted avg       0.80      0.80      0.75      3539\n",
            "\n"
          ]
        }
      ],
      "source": [
        "#SVN model\n",
        "sv = svm.SVC(C=5.0, kernel='rbf') #chose kernel rbf\n",
        "#training model\n",
        "sv.fit(X_train, y_train)\n",
        "#predict for test data\n",
        "y_pred_svm = sv.predict(X_test)\n",
        "#print accuracy on test_data\n",
        "sv_acc = round(accuracy_score(y_test, y_pred_svm)*100,1)\n",
        "print(\"Accuracy of SVM on test data: \", sv_acc)\n",
        "#summary classification report\n",
        "print(classification_report(y_test, y_pred_svm))"
      ]
    },
    {
      "cell_type": "code",
      "execution_count": null,
      "metadata": {
        "colab": {
          "base_uri": "https://localhost:8080/"
        },
        "id": "lrc_Un6jqRdU",
        "outputId": "4bd970a3-9e0c-40cc-a33d-c992e6bb16c3"
      },
      "outputs": [
        {
          "name": "stdout",
          "output_type": "stream",
          "text": [
            "Iteration 1, loss = 0.78381191\n",
            "Iteration 2, loss = 0.57109453\n",
            "Iteration 3, loss = 0.52196303\n",
            "Iteration 4, loss = 0.47524718\n",
            "Iteration 5, loss = 0.49233903\n",
            "Iteration 6, loss = 0.44109614\n",
            "Iteration 7, loss = 0.41557871\n",
            "Iteration 8, loss = 0.44645181\n",
            "Iteration 9, loss = 0.56176867\n",
            "Iteration 10, loss = 0.55387634\n",
            "Iteration 11, loss = 0.54611552\n",
            "Iteration 12, loss = 0.54698724\n",
            "Iteration 13, loss = 0.53984274\n",
            "Iteration 14, loss = 0.53166853\n",
            "Iteration 15, loss = 0.52611560\n",
            "Iteration 16, loss = 0.52318489\n",
            "Iteration 17, loss = 0.51651663\n",
            "Iteration 18, loss = 0.51654785\n",
            "Training loss did not improve more than tol=0.000100 for 10 consecutive epochs. Stopping.\n",
            "Accuracy of MLP on test data:  81.0\n",
            "              precision    recall  f1-score   support\n",
            "\n",
            "           0       0.78      1.00      0.87      2287\n",
            "           1       0.94      0.12      0.22       647\n",
            "           2       0.98      0.83      0.90       605\n",
            "\n",
            "    accuracy                           0.81      3539\n",
            "   macro avg       0.90      0.65      0.66      3539\n",
            "weighted avg       0.84      0.81      0.76      3539\n",
            "\n"
          ]
        }
      ],
      "source": [
        "#MLP model\n",
        "mlp = MLPClassifier(\n",
        "    hidden_layer_sizes=(16,),\n",
        "    activation = 'logistic',\n",
        "    max_iter=100,\n",
        "    alpha=1e-4,\n",
        "    solver=\"sgd\",\n",
        "    verbose=10,\n",
        "    random_state=42,\n",
        "    learning_rate_init=0.02,\n",
        ")   #chose kernel rbf\n",
        "#training model\n",
        "mlp.fit(X_train, y_train)\n",
        "#predict for test data\n",
        "y_pred_mlp = mlp.predict(X_test)\n",
        "#print accuracy on test_data\n",
        "mlp_acc = round(accuracy_score(y_test, y_pred_mlp)*100,1)\n",
        "print(\"Accuracy of MLP on test data: \", mlp_acc)\n",
        "#summary classification report\n",
        "print(classification_report(y_test, y_pred_mlp))"
      ]
    },
    {
      "cell_type": "markdown",
      "metadata": {
        "id": "nkXvtCPwqRdV"
      },
      "source": [
        "### 4. Graph the results of each model (KNN, SVM, MLP) "
      ]
    },
    {
      "cell_type": "code",
      "execution_count": null,
      "metadata": {
        "id": "izuPGGg0vdjv"
      },
      "outputs": [],
      "source": [
        "#install kaleido library for save result\n",
        "!pip install -U kaleido -q"
      ]
    },
    {
      "cell_type": "code",
      "execution_count": null,
      "metadata": {
        "colab": {
          "base_uri": "https://localhost:8080/",
          "height": 467
        },
        "id": "0997JzHOqRdV",
        "outputId": "0883af48-c7e3-469d-da62-a47f2030c551"
      },
      "outputs": [
        {
          "data": {
            "text/html": [
              "<html>\n",
              "<head><meta charset=\"utf-8\" /></head>\n",
              "<body>\n",
              "    <div>            <script src=\"https://cdnjs.cloudflare.com/ajax/libs/mathjax/2.7.5/MathJax.js?config=TeX-AMS-MML_SVG\"></script><script type=\"text/javascript\">if (window.MathJax) {MathJax.Hub.Config({SVG: {font: \"STIX-Web\"}});}</script>                <script type=\"text/javascript\">window.PlotlyConfig = {MathJaxConfig: 'local'};</script>\n",
              "        <script src=\"https://cdn.plot.ly/plotly-2.8.3.min.js\"></script>                <div id=\"ae4e2a42-444c-4d4e-aca1-7c9a5ef6d00b\" class=\"plotly-graph-div\" style=\"height:450px; width:800px;\"></div>            <script type=\"text/javascript\">                                    window.PLOTLYENV=window.PLOTLYENV || {};                                    if (document.getElementById(\"ae4e2a42-444c-4d4e-aca1-7c9a5ef6d00b\")) {                    Plotly.newPlot(                        \"ae4e2a42-444c-4d4e-aca1-7c9a5ef6d00b\",                        [{\"marker\":{\"color\":\"rgba(50, 171, 96, 0.6)\",\"line\":{\"color\":\"rgba(50, 171, 96, 1.0)\",\"width\":1}},\"orientation\":\"h\",\"text\":[\"89.7\",\"79.5\",\"81.0\"],\"x\":[89.7,79.5,81.0],\"y\":[\"KNN\",\"SVM\",\"MLP\"],\"type\":\"bar\",\"textposition\":\"outside\"}],                        {\"template\":{\"data\":{\"bar\":[{\"error_x\":{\"color\":\"#2a3f5f\"},\"error_y\":{\"color\":\"#2a3f5f\"},\"marker\":{\"line\":{\"color\":\"#E5ECF6\",\"width\":0.5},\"pattern\":{\"fillmode\":\"overlay\",\"size\":10,\"solidity\":0.2}},\"type\":\"bar\"}],\"barpolar\":[{\"marker\":{\"line\":{\"color\":\"#E5ECF6\",\"width\":0.5},\"pattern\":{\"fillmode\":\"overlay\",\"size\":10,\"solidity\":0.2}},\"type\":\"barpolar\"}],\"carpet\":[{\"aaxis\":{\"endlinecolor\":\"#2a3f5f\",\"gridcolor\":\"white\",\"linecolor\":\"white\",\"minorgridcolor\":\"white\",\"startlinecolor\":\"#2a3f5f\"},\"baxis\":{\"endlinecolor\":\"#2a3f5f\",\"gridcolor\":\"white\",\"linecolor\":\"white\",\"minorgridcolor\":\"white\",\"startlinecolor\":\"#2a3f5f\"},\"type\":\"carpet\"}],\"choropleth\":[{\"colorbar\":{\"outlinewidth\":0,\"ticks\":\"\"},\"type\":\"choropleth\"}],\"contour\":[{\"colorbar\":{\"outlinewidth\":0,\"ticks\":\"\"},\"colorscale\":[[0.0,\"#0d0887\"],[0.1111111111111111,\"#46039f\"],[0.2222222222222222,\"#7201a8\"],[0.3333333333333333,\"#9c179e\"],[0.4444444444444444,\"#bd3786\"],[0.5555555555555556,\"#d8576b\"],[0.6666666666666666,\"#ed7953\"],[0.7777777777777778,\"#fb9f3a\"],[0.8888888888888888,\"#fdca26\"],[1.0,\"#f0f921\"]],\"type\":\"contour\"}],\"contourcarpet\":[{\"colorbar\":{\"outlinewidth\":0,\"ticks\":\"\"},\"type\":\"contourcarpet\"}],\"heatmap\":[{\"colorbar\":{\"outlinewidth\":0,\"ticks\":\"\"},\"colorscale\":[[0.0,\"#0d0887\"],[0.1111111111111111,\"#46039f\"],[0.2222222222222222,\"#7201a8\"],[0.3333333333333333,\"#9c179e\"],[0.4444444444444444,\"#bd3786\"],[0.5555555555555556,\"#d8576b\"],[0.6666666666666666,\"#ed7953\"],[0.7777777777777778,\"#fb9f3a\"],[0.8888888888888888,\"#fdca26\"],[1.0,\"#f0f921\"]],\"type\":\"heatmap\"}],\"heatmapgl\":[{\"colorbar\":{\"outlinewidth\":0,\"ticks\":\"\"},\"colorscale\":[[0.0,\"#0d0887\"],[0.1111111111111111,\"#46039f\"],[0.2222222222222222,\"#7201a8\"],[0.3333333333333333,\"#9c179e\"],[0.4444444444444444,\"#bd3786\"],[0.5555555555555556,\"#d8576b\"],[0.6666666666666666,\"#ed7953\"],[0.7777777777777778,\"#fb9f3a\"],[0.8888888888888888,\"#fdca26\"],[1.0,\"#f0f921\"]],\"type\":\"heatmapgl\"}],\"histogram\":[{\"marker\":{\"pattern\":{\"fillmode\":\"overlay\",\"size\":10,\"solidity\":0.2}},\"type\":\"histogram\"}],\"histogram2d\":[{\"colorbar\":{\"outlinewidth\":0,\"ticks\":\"\"},\"colorscale\":[[0.0,\"#0d0887\"],[0.1111111111111111,\"#46039f\"],[0.2222222222222222,\"#7201a8\"],[0.3333333333333333,\"#9c179e\"],[0.4444444444444444,\"#bd3786\"],[0.5555555555555556,\"#d8576b\"],[0.6666666666666666,\"#ed7953\"],[0.7777777777777778,\"#fb9f3a\"],[0.8888888888888888,\"#fdca26\"],[1.0,\"#f0f921\"]],\"type\":\"histogram2d\"}],\"histogram2dcontour\":[{\"colorbar\":{\"outlinewidth\":0,\"ticks\":\"\"},\"colorscale\":[[0.0,\"#0d0887\"],[0.1111111111111111,\"#46039f\"],[0.2222222222222222,\"#7201a8\"],[0.3333333333333333,\"#9c179e\"],[0.4444444444444444,\"#bd3786\"],[0.5555555555555556,\"#d8576b\"],[0.6666666666666666,\"#ed7953\"],[0.7777777777777778,\"#fb9f3a\"],[0.8888888888888888,\"#fdca26\"],[1.0,\"#f0f921\"]],\"type\":\"histogram2dcontour\"}],\"mesh3d\":[{\"colorbar\":{\"outlinewidth\":0,\"ticks\":\"\"},\"type\":\"mesh3d\"}],\"parcoords\":[{\"line\":{\"colorbar\":{\"outlinewidth\":0,\"ticks\":\"\"}},\"type\":\"parcoords\"}],\"pie\":[{\"automargin\":true,\"type\":\"pie\"}],\"scatter\":[{\"marker\":{\"colorbar\":{\"outlinewidth\":0,\"ticks\":\"\"}},\"type\":\"scatter\"}],\"scatter3d\":[{\"line\":{\"colorbar\":{\"outlinewidth\":0,\"ticks\":\"\"}},\"marker\":{\"colorbar\":{\"outlinewidth\":0,\"ticks\":\"\"}},\"type\":\"scatter3d\"}],\"scattercarpet\":[{\"marker\":{\"colorbar\":{\"outlinewidth\":0,\"ticks\":\"\"}},\"type\":\"scattercarpet\"}],\"scattergeo\":[{\"marker\":{\"colorbar\":{\"outlinewidth\":0,\"ticks\":\"\"}},\"type\":\"scattergeo\"}],\"scattergl\":[{\"marker\":{\"colorbar\":{\"outlinewidth\":0,\"ticks\":\"\"}},\"type\":\"scattergl\"}],\"scattermapbox\":[{\"marker\":{\"colorbar\":{\"outlinewidth\":0,\"ticks\":\"\"}},\"type\":\"scattermapbox\"}],\"scatterpolar\":[{\"marker\":{\"colorbar\":{\"outlinewidth\":0,\"ticks\":\"\"}},\"type\":\"scatterpolar\"}],\"scatterpolargl\":[{\"marker\":{\"colorbar\":{\"outlinewidth\":0,\"ticks\":\"\"}},\"type\":\"scatterpolargl\"}],\"scatterternary\":[{\"marker\":{\"colorbar\":{\"outlinewidth\":0,\"ticks\":\"\"}},\"type\":\"scatterternary\"}],\"surface\":[{\"colorbar\":{\"outlinewidth\":0,\"ticks\":\"\"},\"colorscale\":[[0.0,\"#0d0887\"],[0.1111111111111111,\"#46039f\"],[0.2222222222222222,\"#7201a8\"],[0.3333333333333333,\"#9c179e\"],[0.4444444444444444,\"#bd3786\"],[0.5555555555555556,\"#d8576b\"],[0.6666666666666666,\"#ed7953\"],[0.7777777777777778,\"#fb9f3a\"],[0.8888888888888888,\"#fdca26\"],[1.0,\"#f0f921\"]],\"type\":\"surface\"}],\"table\":[{\"cells\":{\"fill\":{\"color\":\"#EBF0F8\"},\"line\":{\"color\":\"white\"}},\"header\":{\"fill\":{\"color\":\"#C8D4E3\"},\"line\":{\"color\":\"white\"}},\"type\":\"table\"}]},\"layout\":{\"annotationdefaults\":{\"arrowcolor\":\"#2a3f5f\",\"arrowhead\":0,\"arrowwidth\":1},\"autotypenumbers\":\"strict\",\"coloraxis\":{\"colorbar\":{\"outlinewidth\":0,\"ticks\":\"\"}},\"colorscale\":{\"diverging\":[[0,\"#8e0152\"],[0.1,\"#c51b7d\"],[0.2,\"#de77ae\"],[0.3,\"#f1b6da\"],[0.4,\"#fde0ef\"],[0.5,\"#f7f7f7\"],[0.6,\"#e6f5d0\"],[0.7,\"#b8e186\"],[0.8,\"#7fbc41\"],[0.9,\"#4d9221\"],[1,\"#276419\"]],\"sequential\":[[0.0,\"#0d0887\"],[0.1111111111111111,\"#46039f\"],[0.2222222222222222,\"#7201a8\"],[0.3333333333333333,\"#9c179e\"],[0.4444444444444444,\"#bd3786\"],[0.5555555555555556,\"#d8576b\"],[0.6666666666666666,\"#ed7953\"],[0.7777777777777778,\"#fb9f3a\"],[0.8888888888888888,\"#fdca26\"],[1.0,\"#f0f921\"]],\"sequentialminus\":[[0.0,\"#0d0887\"],[0.1111111111111111,\"#46039f\"],[0.2222222222222222,\"#7201a8\"],[0.3333333333333333,\"#9c179e\"],[0.4444444444444444,\"#bd3786\"],[0.5555555555555556,\"#d8576b\"],[0.6666666666666666,\"#ed7953\"],[0.7777777777777778,\"#fb9f3a\"],[0.8888888888888888,\"#fdca26\"],[1.0,\"#f0f921\"]]},\"colorway\":[\"#636efa\",\"#EF553B\",\"#00cc96\",\"#ab63fa\",\"#FFA15A\",\"#19d3f3\",\"#FF6692\",\"#B6E880\",\"#FF97FF\",\"#FECB52\"],\"font\":{\"color\":\"#2a3f5f\"},\"geo\":{\"bgcolor\":\"white\",\"lakecolor\":\"white\",\"landcolor\":\"#E5ECF6\",\"showlakes\":true,\"showland\":true,\"subunitcolor\":\"white\"},\"hoverlabel\":{\"align\":\"left\"},\"hovermode\":\"closest\",\"mapbox\":{\"style\":\"light\"},\"paper_bgcolor\":\"white\",\"plot_bgcolor\":\"#E5ECF6\",\"polar\":{\"angularaxis\":{\"gridcolor\":\"white\",\"linecolor\":\"white\",\"ticks\":\"\"},\"bgcolor\":\"#E5ECF6\",\"radialaxis\":{\"gridcolor\":\"white\",\"linecolor\":\"white\",\"ticks\":\"\"}},\"scene\":{\"xaxis\":{\"backgroundcolor\":\"#E5ECF6\",\"gridcolor\":\"white\",\"gridwidth\":2,\"linecolor\":\"white\",\"showbackground\":true,\"ticks\":\"\",\"zerolinecolor\":\"white\"},\"yaxis\":{\"backgroundcolor\":\"#E5ECF6\",\"gridcolor\":\"white\",\"gridwidth\":2,\"linecolor\":\"white\",\"showbackground\":true,\"ticks\":\"\",\"zerolinecolor\":\"white\"},\"zaxis\":{\"backgroundcolor\":\"#E5ECF6\",\"gridcolor\":\"white\",\"gridwidth\":2,\"linecolor\":\"white\",\"showbackground\":true,\"ticks\":\"\",\"zerolinecolor\":\"white\"}},\"shapedefaults\":{\"line\":{\"color\":\"#2a3f5f\"}},\"ternary\":{\"aaxis\":{\"gridcolor\":\"white\",\"linecolor\":\"white\",\"ticks\":\"\"},\"baxis\":{\"gridcolor\":\"white\",\"linecolor\":\"white\",\"ticks\":\"\"},\"bgcolor\":\"#E5ECF6\",\"caxis\":{\"gridcolor\":\"white\",\"linecolor\":\"white\",\"ticks\":\"\"}},\"title\":{\"x\":0.05},\"xaxis\":{\"automargin\":true,\"gridcolor\":\"white\",\"linecolor\":\"white\",\"ticks\":\"\",\"title\":{\"standoff\":15},\"zerolinecolor\":\"white\",\"zerolinewidth\":2},\"yaxis\":{\"automargin\":true,\"gridcolor\":\"white\",\"linecolor\":\"white\",\"ticks\":\"\",\"title\":{\"standoff\":15},\"zerolinecolor\":\"white\",\"zerolinewidth\":2}}},\"legend\":{\"font\":{\"size\":10},\"x\":0.029,\"y\":1.038},\"margin\":{\"l\":100,\"r\":20,\"t\":70,\"b\":70},\"title\":{\"text\":\"Machine Learning Models Comparison\"},\"xaxis\":{\"title\":{\"text\":\"Accuracy\"}},\"yaxis\":{\"title\":{\"text\":\"Models\"}},\"paper_bgcolor\":\"rgb(248, 248, 255)\",\"plot_bgcolor\":\"rgb(248, 248, 255)\",\"autosize\":false,\"width\":800,\"height\":450},                        {\"responsive\": true}                    ).then(function(){\n",
              "                            \n",
              "var gd = document.getElementById('ae4e2a42-444c-4d4e-aca1-7c9a5ef6d00b');\n",
              "var x = new MutationObserver(function (mutations, observer) {{\n",
              "        var display = window.getComputedStyle(gd).display;\n",
              "        if (!display || display === 'none') {{\n",
              "            console.log([gd, 'removed!']);\n",
              "            Plotly.purge(gd);\n",
              "            observer.disconnect();\n",
              "        }}\n",
              "}});\n",
              "\n",
              "// Listen for the removal of the full notebook cells\n",
              "var notebookContainer = gd.closest('#notebook-container');\n",
              "if (notebookContainer) {{\n",
              "    x.observe(notebookContainer, {childList: true});\n",
              "}}\n",
              "\n",
              "// Listen for the clearing of the current output cell\n",
              "var outputEl = gd.closest('.output');\n",
              "if (outputEl) {{\n",
              "    x.observe(outputEl, {childList: true});\n",
              "}}\n",
              "\n",
              "                        })                };                            </script>        </div>\n",
              "</body>\n",
              "</html>"
            ]
          },
          "metadata": {},
          "output_type": "display_data"
        }
      ],
      "source": [
        "# Label text for model\n",
        "labels = [\"KNN\", \"SVM\", \"MLP\"]\n",
        "# model results\n",
        "results = [knn_acc, sv_acc, mlp_acc]\n",
        "#create dataframe\n",
        "df_results = pd.DataFrame.from_dict({\"models\": labels, \"results\": results})\n",
        "fig = go.Figure()\n",
        "#plot model \n",
        "fig.add_trace(go.Bar(\n",
        "x=results,\n",
        "y=labels,\n",
        "marker=dict(\n",
        "    color='rgba(50, 171, 96, 0.6)',\n",
        "    line=dict(\n",
        "        color='rgba(50, 171, 96, 1.0)',\n",
        "        width=1),\n",
        "),\n",
        "orientation='h', text=results\n",
        "))\n",
        "#change postion of data label\n",
        "fig.update_traces(textposition='outside')\n",
        "# config charts\n",
        "fig.update_layout(\n",
        "    title='Machine Learning Models Comparison',\n",
        "    xaxis_title=\"Accuracy\",\n",
        "    yaxis_title=\"Models\",\n",
        "    legend=dict(x=0.029, y=1.038, font_size=10),\n",
        "    margin=dict(l=100, r=20, t=70, b=70),\n",
        "    paper_bgcolor='rgb(248, 248, 255)',\n",
        "    plot_bgcolor='rgb(248, 248, 255)',\n",
        "    autosize=False,\n",
        "    width=800,\n",
        "    height=450,\n",
        ")\n",
        "# Display the graph\n",
        "fig.show()\n",
        "#save picture result\n",
        "fig.write_image(\"models_result.png\")"
      ]
    },
    {
      "cell_type": "code",
      "execution_count": null,
      "metadata": {
        "id": "oRePC4Yc5Ejm"
      },
      "outputs": [],
      "source": []
    },
    {
      "cell_type": "code",
      "execution_count": null,
      "metadata": {
        "id": "DOA8Jz165Eww"
      },
      "outputs": [],
      "source": []
    },
    {
      "cell_type": "code",
      "execution_count": null,
      "metadata": {
        "id": "Pe5B9T2S5Ezo"
      },
      "outputs": [],
      "source": []
    }
  ],
  "metadata": {
    "colab": {
      "include_colab_link": true,
      "provenance": []
    },
    "kernelspec": {
      "display_name": "ml",
      "language": "python",
      "name": "python3"
    },
    "language_info": {
      "codemirror_mode": {
        "name": "ipython",
        "version": 3
      },
      "file_extension": ".py",
      "mimetype": "text/x-python",
      "name": "python",
      "nbconvert_exporter": "python",
      "pygments_lexer": "ipython3",
      "version": "3.7.6"
    },
    "orig_nbformat": 4,
    "vscode": {
      "interpreter": {
        "hash": "7e9de5aaf5d7a06d341061baabaf98bd61b18e9721a4808ae0f9fb73e2a08f11"
      }
    }
  },
  "nbformat": 4,
  "nbformat_minor": 0
}
